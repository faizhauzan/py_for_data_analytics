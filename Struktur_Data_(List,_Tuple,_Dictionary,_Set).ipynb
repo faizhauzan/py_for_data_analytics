{
  "cells": [
    {
      "cell_type": "markdown",
      "metadata": {
        "id": "GgjwWAS2eFI1"
      },
      "source": [
        "# STRUKTUR DATA: `List, Tuple, Set, & Dictionary`"
      ]
    },
    {
      "cell_type": "markdown",
      "metadata": {
        "id": "jLgx8o0UpJZ9"
      },
      "source": [
        "## `List`\n",
        "> `List` adalah sebuah objek kelas dalam Python yang berupa sebuah koleksi/kontainer berisi objek bertipe rangkaian (*sequence*), sehingga seringkali dirujuk sebagai *containers* atau *collections*.\n",
        "\n",
        "`List`, yang merupakan sebuah objek kelas fundamental, memiliki seperangkat fitur yang memungkinkan pengelolaan sekaligus manipulasi beragam tipe data secara efisien. Sebuah `list` akan memiliki beberapa karakteristik sebagai berikut:\n",
        "1. ***Ordered***: Urutan setiap elemen pada sebuah list akan sesuai dengan urutan penginputan masing-masing elemen;\n",
        "2. ***Zero-based***: Indeks posisional dari setiap elemen pada sebuah `list` akan dimulai dari indeks 0;\n",
        "3. ***Mutable***: Memungkinkan untuk melakukan perubahan (*mutations*) terhadap elemen yang ada didalamnya;\n",
        "4. ***Heterogeneous***: Dapat memuat objek dengan tipe yang bermacam-macam (`int`, `float`, `str`, `list`, `tuple`, `dictionary`, `set`, & bahkan `function`);\n",
        "5. ***Growable & Dynamic***: Memungkinkan untuk melakukan penambahan, penginputan, dan penghapusan elemen;\n",
        "6. ***Nestable***: Dapat memuat `list` lain di dalamnya;\n",
        "7. ***Iterable***: Memungkinkan untuk dilakukan iterasi terhadap setiap elemen di dalamnya dengan menggunakan `loop` atau `list comprehension`;\n",
        "8. ***Sliceable***: Memungkinkan untuk melakukan operasi *slicing* untuk mengakses elemennya;\n",
        "9. ***Combinable***: Memungkinkan untuk melakukan proses *concatenation* terhadap satu `list` dengan `list` lain;\n",
        "10. ***copyable***: Memungkinkan untuk membuat duplikat dari `list` ke dalam sebuah `list` yang lain."
      ]
    },
    {
      "cell_type": "markdown",
      "metadata": {
        "id": "ZZAawgepzHOn"
      },
      "source": [
        "### `List` Construction\n",
        "Terdapat tiga cara untuk membangun sebuah `list`:\n",
        "1. Menggunakan `list literals`:\n",
        "```python\n",
        "nama_list = [] # Membuat list kosong\n",
        "nama_list = [elemen_1, elemen_2, ..., elemen_n]\n",
        "```\n",
        "2. Menggunakan `type constructor`:\n",
        "```python\n",
        "nama_list = list() # Membuat list kosong\n",
        "nama_list = list(iterable)\n",
        "```\n",
        "3. Menggunakan `list comprehension`:\n",
        "```python\n",
        "nama_list = [expression(item) for item in iterable if conditional]\n",
        "```"
      ]
    },
    {
      "cell_type": "code",
      "execution_count": 1,
      "metadata": {
        "id": "mgBwIe3LL6Wu",
        "colab": {
          "base_uri": "https://localhost:8080/"
        },
        "outputId": "4fa96ca0-c9e1-4384-848f-fdc8ca1dc8b7"
      },
      "outputs": [
        {
          "output_type": "stream",
          "name": "stdout",
          "text": [
            "['Amir', 'Budi', 'Cinta', 'Dimas', 'Edi']\n"
          ]
        }
      ],
      "source": [
        "# Membuat sebuah list berisi nama-nama teman menggunakan list literals\n",
        "\n",
        "nama_teman = ['Amir', 'Budi', 'Cinta', 'Dimas', 'Edi']\n",
        "print(nama_teman)"
      ]
    },
    {
      "cell_type": "code",
      "execution_count": 2,
      "metadata": {
        "id": "sqhcRBe51s3R",
        "colab": {
          "base_uri": "https://localhost:8080/"
        },
        "outputId": "ad25e5d4-c69e-46b1-d217-f2d2d562be7b"
      },
      "outputs": [
        {
          "output_type": "stream",
          "name": "stdout",
          "text": [
            "[0, 1, 2, 3, 4, 5, 6, 7, 8, 9]\n"
          ]
        }
      ],
      "source": [
        "# Membuat sebuah list berisi angka 0-9 dengan menggunakan list() constructors\n",
        "\n",
        "angka = list(range(0, 10, 1))\n",
        "print(angka)"
      ]
    },
    {
      "cell_type": "code",
      "execution_count": 3,
      "metadata": {
        "id": "hB3zThcOgl_T",
        "colab": {
          "base_uri": "https://localhost:8080/"
        },
        "outputId": "21074631-ef25-4cd7-f0c9-03a2b73341e6"
      },
      "outputs": [
        {
          "output_type": "stream",
          "name": "stdout",
          "text": [
            "[1, 3, 5, 7, 9]\n"
          ]
        }
      ],
      "source": [
        "# Membuat sebuah list berisi angka ganjil dari list angka menggunakan list comprehension\n",
        "\n",
        "angka_ganjil = [num for num in angka if num % 2 == 1]\n",
        "print(angka_ganjil)"
      ]
    },
    {
      "cell_type": "code",
      "source": [
        "# Cara lain untuk membuat list berisi angka ganjil dengan menggunakan list comprehension???\n",
        "angka_ganjil_lain = [angka[x] for x in range(1, len(angka), 2)]\n",
        "print(angka_ganjil_lain)"
      ],
      "metadata": {
        "id": "4DwI-e8aAiiZ",
        "colab": {
          "base_uri": "https://localhost:8080/"
        },
        "outputId": "526c6b10-e052-4afe-daf6-914f9746e729"
      },
      "execution_count": 4,
      "outputs": [
        {
          "output_type": "stream",
          "name": "stdout",
          "text": [
            "[1, 3, 5, 7, 9]\n"
          ]
        }
      ]
    },
    {
      "cell_type": "code",
      "source": [
        "# CHALLENGE: Ada cara lain untuk menyusun list berisi angka ganjil pada range 0-10 secara lebih sederhana??\n",
        "# HINT: lakukan slicing dengan step\n",
        "angka_ganjil_baru = angka[1::2]\n",
        "print(angka_ganjil_baru)"
      ],
      "metadata": {
        "id": "AJH_yW_Chh68",
        "colab": {
          "base_uri": "https://localhost:8080/"
        },
        "outputId": "53fd097c-a0f8-4ef6-dd7a-47d914a23ada"
      },
      "execution_count": 16,
      "outputs": [
        {
          "output_type": "stream",
          "name": "stdout",
          "text": [
            "[1, 3, 5, 7, 9]\n"
          ]
        }
      ]
    },
    {
      "cell_type": "markdown",
      "metadata": {
        "id": "JY-m2EiJ3cZQ"
      },
      "source": [
        "### Accessing elements of a `list`\n",
        "Beberapa operasi yang digunakan untuk mengakses elemen pada sebuah list antara lain:\n",
        "1. `indexing`, menghasilkan sebuah data yang merupakan elemen dari sebuah `list`. Sebagai ilustrasi, di bawah berikut dapat diamati cara untuk menampilkan angka 5 yang merupakan sebuah elemen pada `angka` yang kita buat pada exercise sebelumnya.\n",
        "```python\n",
        "angka[5] # dituliskan nomor index dari elemen 5\n",
        "# Output = 5\n",
        "```\n",
        "2. `slicing`, menghasilkan sebuah `list` berisi sebuah atau beberapa elemen dari sebuah `list` lainnya. Sebagai ilustrasi, di bawah berikut dapat diamati cara mengambil angka 1, 2, 3 yang merupakan elemen pada `angka`.\n",
        "```python\n",
        "angka[1:4:1] # dituliskan index awal, index akhir+1, dan step\n",
        "# Output = [1, 2, 3]\n",
        "```"
      ]
    },
    {
      "cell_type": "code",
      "execution_count": 6,
      "metadata": {
        "id": "KyWiAJmoUHit",
        "colab": {
          "base_uri": "https://localhost:8080/"
        },
        "outputId": "473aa0cd-732e-4904-bbbc-f3da15db1288"
      },
      "outputs": [
        {
          "output_type": "stream",
          "name": "stdout",
          "text": [
            "Nama pertama pada list adalah: Amir.\n",
            "Nama ke-2 pada list adalah: Budi.\n",
            "Nama terakhir pada list adalah: Edi.\n"
          ]
        }
      ],
      "source": [
        "# Memanggil elemen list menggunakan indexing\n",
        "\n",
        "print(\"Nama pertama pada list adalah: %s.\" % nama_teman[0])      # Mengakses elemen pertama pada list nama_teman\n",
        "print(\"Nama ke-%d pada list adalah: %s.\" % (1+1, nama_teman[1])) # Mengakses elemen kedua pada list nama_teman\n",
        "print(\"Nama terakhir pada list adalah: %s.\" % nama_teman[-1])    # Mengakses elemen paling akhir pada list nama_teman"
      ]
    },
    {
      "cell_type": "code",
      "execution_count": 7,
      "metadata": {
        "id": "0puQZOoG4HUQ",
        "colab": {
          "base_uri": "https://localhost:8080/"
        },
        "outputId": "33862363-11f6-4620-aa05-4c1b1b13a225"
      },
      "outputs": [
        {
          "output_type": "stream",
          "name": "stdout",
          "text": [
            "['Amir', 'Budi']\n",
            "['Amir', 'Cinta', 'Edi']\n",
            "['Edi', 'Dimas', 'Cinta', 'Budi', 'Amir']\n"
          ]
        }
      ],
      "source": [
        "# Memanggil elemen list menggunakan slicing\n",
        "\n",
        "print(nama_teman[:2])   # Mengakses elemen pada nama_teman, dari elemen indeks 0 hingga elemen indeks 1\n",
        "print(nama_teman[::2])  # Mengakses seluruh elemen pada nama_teman yang bernomor indeks genap\n",
        "print(nama_teman[::-1]) # Mengakses seluruh elemen pada nama_teman, dari urutan paling akhir hingga ke awal"
      ]
    },
    {
      "cell_type": "code",
      "source": [
        "# CHALLENGE: Bagaimana cara slicing agar dapat menampilkan elemen ['Edi', 'Cinta'] dari nama_teman??\n",
        "nama_teman[-1:1:-2]"
      ],
      "metadata": {
        "id": "7lwvjd5CnrOd",
        "colab": {
          "base_uri": "https://localhost:8080/"
        },
        "outputId": "99b4b7a4-579a-483b-a58e-229f600a2cf9"
      },
      "execution_count": 19,
      "outputs": [
        {
          "output_type": "execute_result",
          "data": {
            "text/plain": [
              "['Edi', 'Cinta']"
            ]
          },
          "metadata": {},
          "execution_count": 19
        }
      ]
    },
    {
      "cell_type": "markdown",
      "metadata": {
        "id": "JZ705wgCIqn4"
      },
      "source": [
        "### Membuat copy dari sebuah `list`\n",
        "Operasi yang jarang dilakukan, akan tetapi, terkadang membuat duplikat dari sebuah `list` merupakan sebuah *good practice*, jika kita hendak melakukan pengolahan terhadap elemen dari `list` tersebut. Hal ini untuk memastikan bahwa data orijinal tidak mengalami perubahan, sehingga pada saat terjadi kesalahan dalam proses pengolahan, kita dapat melakukan *trace back* ke kondisi sebelumnya.\n",
        "\n",
        "Untuk membuat copy dari sebuah `list` kita dapat menggunakan method `copy` seperti dicontohkan berikut di bawah ini:\n",
        "```python\n",
        "# Membuat sebuah copy dari nama_teman\n",
        "nama_teman_copy = nama_teman.copy()\n",
        "```"
      ]
    },
    {
      "cell_type": "code",
      "execution_count": 20,
      "metadata": {
        "id": "vN7_O9egpw5e",
        "colab": {
          "base_uri": "https://localhost:8080/"
        },
        "outputId": "99c40f33-a1c1-466a-f310-c36e8890da68"
      },
      "outputs": [
        {
          "output_type": "stream",
          "name": "stdout",
          "text": [
            "[1, 3, 5, 7, 9]\n",
            "['Amir', 'Budi', 'Cinta', 'Dimas', 'Edi']\n"
          ]
        }
      ],
      "source": [
        "# Membuat duplikat list angka ganjil\n",
        "angka_ganjil_copy = angka_ganjil.copy()\n",
        "print(angka_ganjil_copy)\n",
        "\n",
        "# Membuat duplikat nama_teman\n",
        "nama_teman_baru = nama_teman.copy()\n",
        "print(nama_teman_baru)"
      ]
    },
    {
      "cell_type": "code",
      "source": [
        "# CHALLENGE: Lakukan operasi pembagian terhadap elemen index 2 pada angka_ganjil_copy dengan angka 4!!\n",
        "angka_ganjil_copy[2] = angka_ganjil_copy[2] / 4\n",
        "\n",
        "# Cek hasil\n",
        "print(\"List orijinal:\", angka_ganjil)\n",
        "print(\"List olahan:\", angka_ganjil_copy)"
      ],
      "metadata": {
        "id": "7GmB6U6zrhcy",
        "colab": {
          "base_uri": "https://localhost:8080/"
        },
        "outputId": "f0ddccf8-7d00-43b9-b8bc-dec466e8aff4"
      },
      "execution_count": 21,
      "outputs": [
        {
          "output_type": "stream",
          "name": "stdout",
          "text": [
            "List orijinal: [1, 3, 5, 7, 9]\n",
            "List olahan: [1, 3, 1.25, 7, 9]\n"
          ]
        }
      ]
    },
    {
      "cell_type": "markdown",
      "metadata": {
        "id": "JDEkiWu_DmS_"
      },
      "source": [
        "### [***Common Sequence Operations***](https://docs.python.org/3/library/stdtypes.html#common-sequence-operations)\n",
        "*Common Sequence Operations* adalah berbagai fungsi, methods dan operasi yang dapat dikenakan terhadap data bertipe sequence, antara lain:\n",
        "1. Fungsi `len()`;\n",
        "2. Method `count()`;\n",
        "3. Method `index()`;\n",
        "4. Method `sort()`;\n",
        "5. Method `reverse()`;\n",
        "6. Operasi Concatenate `list_1 + list_2`;\n",
        "7. Operasi Repetition `2 * list_1`;\n",
        "8. Fungsi `max()`; dan\n",
        "9. Fungsi `min()`;\n",
        "10. Operasi `in`;\n",
        "11. Operasi `not in`."
      ]
    },
    {
      "cell_type": "code",
      "execution_count": 22,
      "metadata": {
        "id": "M3C5VDzGjvIB",
        "colab": {
          "base_uri": "https://localhost:8080/"
        },
        "outputId": "550c22c4-07ab-4a91-e001-e87af6e7cce5"
      },
      "outputs": [
        {
          "output_type": "stream",
          "name": "stdout",
          "text": [
            "Jumlah elemen pada list nama_teman = 5\n",
            "Jumlah elemen pada list nama_teman_baru = 5\n"
          ]
        }
      ],
      "source": [
        "# Menampilkan jumlah elemen pada sebuah list\n",
        "\n",
        "print(f\"Jumlah elemen pada list nama_teman = {len(nama_teman)}\")\n",
        "print(f\"Jumlah elemen pada list nama_teman_baru = {len(nama_teman_baru)}\")"
      ]
    },
    {
      "cell_type": "code",
      "execution_count": 23,
      "metadata": {
        "id": "tc6DZ73OkGla",
        "colab": {
          "base_uri": "https://localhost:8080/"
        },
        "outputId": "4398c901-ff01-4de4-8a70-c49aff370af0"
      },
      "outputs": [
        {
          "output_type": "execute_result",
          "data": {
            "text/plain": [
              "0"
            ]
          },
          "metadata": {},
          "execution_count": 23
        }
      ],
      "source": [
        "# Menghitung banyaknya kemunculan sebuah elemen\n",
        "\n",
        "nama_teman.count('Beni')"
      ]
    },
    {
      "cell_type": "code",
      "execution_count": 24,
      "metadata": {
        "id": "gC9tnRsJkbh9",
        "colab": {
          "base_uri": "https://localhost:8080/"
        },
        "outputId": "14e4e00f-3ce8-4a48-9858-900b96a308cc"
      },
      "outputs": [
        {
          "output_type": "execute_result",
          "data": {
            "text/plain": [
              "3"
            ]
          },
          "metadata": {},
          "execution_count": 24
        }
      ],
      "source": [
        "# Menampilkan index dari elemen tertentu\n",
        "# jika elemen memiliki duplikat maka index yang ditampilkan adalah index terkecil\n",
        "\n",
        "nama_teman.index('Dimas')"
      ]
    },
    {
      "cell_type": "code",
      "execution_count": 25,
      "metadata": {
        "id": "9AjnYrC8nWRe",
        "colab": {
          "base_uri": "https://localhost:8080/"
        },
        "outputId": "66fdae9e-7136-4e3e-9a66-a6576b8bd7d3"
      },
      "outputs": [
        {
          "output_type": "stream",
          "name": "stdout",
          "text": [
            "List diurut secara Ascending: ['Amir', 'Budi', 'Cinta', 'Dimas', 'Edi']\n",
            "List diurut secara Descending: ['Edi', 'Dimas', 'Cinta', 'Budi', 'Amir']\n"
          ]
        }
      ],
      "source": [
        "# Mengurutkan elemen pada list menggunakan method sort()\n",
        "# Method sort() akan melakukan perubahan secara 'inplace'\n",
        "\n",
        "# Ascending sorting\n",
        "nama_teman.sort()\n",
        "print(f'List diurut secara Ascending: {nama_teman}')\n",
        "\n",
        "# Descending sorting\n",
        "nama_teman.sort(reverse=True)\n",
        "print(f'List diurut secara Descending: {nama_teman}')"
      ]
    },
    {
      "cell_type": "code",
      "execution_count": 26,
      "metadata": {
        "id": "vyVqUO5vnwyU",
        "colab": {
          "base_uri": "https://localhost:8080/"
        },
        "outputId": "0b66f5f2-04f3-4032-d5b3-690e67ddb9f7"
      },
      "outputs": [
        {
          "output_type": "stream",
          "name": "stdout",
          "text": [
            "['Amir', 'Budi', 'Cinta', 'Dimas', 'Edi']\n"
          ]
        }
      ],
      "source": [
        "# Membalikkan posisi elemen pada list dari belakang ke depan: BUKAN MENGURUTKAN!!!\n",
        "# Method reverse() akan melakukan perubahan secara 'inplace'\n",
        "\n",
        "nama_teman.reverse()\n",
        "print(nama_teman)"
      ]
    },
    {
      "cell_type": "code",
      "execution_count": 27,
      "metadata": {
        "id": "KtxA7uHmPh51",
        "colab": {
          "base_uri": "https://localhost:8080/"
        },
        "outputId": "668ee451-67b3-45d4-d21b-887beef7c6df"
      },
      "outputs": [
        {
          "output_type": "stream",
          "name": "stdout",
          "text": [
            "Hasil concatenation nama_teman dan angka: ['Amir', 'Budi', 'Cinta', 'Dimas', 'Edi', 0, 1, 2, 3, 4, 5, 6, 7, 8, 9]\n"
          ]
        }
      ],
      "source": [
        "# Concatenation, menggabungkan list dengan list lain\n",
        "\n",
        "print(f\"Hasil concatenation nama_teman dan angka: {nama_teman+angka}\")"
      ]
    },
    {
      "cell_type": "code",
      "execution_count": 28,
      "metadata": {
        "id": "6BtyqEERPzm0",
        "colab": {
          "base_uri": "https://localhost:8080/"
        },
        "outputId": "66e18918-fb5f-4ae2-ee74-7331d7485839"
      },
      "outputs": [
        {
          "output_type": "stream",
          "name": "stdout",
          "text": [
            "['Amir', 'Budi', 'Cinta', 'Dimas', 'Edi', 'Amir', 'Budi', 'Cinta', 'Dimas', 'Edi']\n",
            "[0, 1, 2, 3, 4, 5, 6, 7, 8, 9, 0, 1, 2, 3, 4, 5, 6, 7, 8, 9]\n"
          ]
        }
      ],
      "source": [
        "# Repetition, mengulang list\n",
        "\n",
        "print(2 * nama_teman)\n",
        "print(2 * angka)"
      ]
    },
    {
      "cell_type": "code",
      "execution_count": 29,
      "metadata": {
        "id": "EeqE2FsxL2A4",
        "colab": {
          "base_uri": "https://localhost:8080/",
          "height": 36
        },
        "outputId": "8208d255-8a86-4ee4-933d-f0172b2d5cea"
      },
      "outputs": [
        {
          "output_type": "execute_result",
          "data": {
            "text/plain": [
              "'Edi'"
            ],
            "application/vnd.google.colaboratory.intrinsic+json": {
              "type": "string"
            }
          },
          "metadata": {},
          "execution_count": 29
        }
      ],
      "source": [
        "# Mencari elemen dengan value paling besar\n",
        "\n",
        "max(nama_teman)"
      ]
    },
    {
      "cell_type": "code",
      "execution_count": 30,
      "metadata": {
        "id": "MhhI1R_YMJpB",
        "colab": {
          "base_uri": "https://localhost:8080/",
          "height": 36
        },
        "outputId": "3792895b-9a10-4815-e8d6-458d79502373"
      },
      "outputs": [
        {
          "output_type": "execute_result",
          "data": {
            "text/plain": [
              "'Amir'"
            ],
            "application/vnd.google.colaboratory.intrinsic+json": {
              "type": "string"
            }
          },
          "metadata": {},
          "execution_count": 30
        }
      ],
      "source": [
        "# Mencari elemen dengan value paling kecil\n",
        "\n",
        "min(nama_teman)"
      ]
    },
    {
      "cell_type": "markdown",
      "metadata": {
        "id": "BPXNKi4lMUV1"
      },
      "source": [
        "**GOTCHA!!**<br>\n",
        "'Edi' dan 'Amir' bukan data bertipe numeric, mengapa bisa dicari max dan min???"
      ]
    },
    {
      "cell_type": "code",
      "execution_count": 31,
      "metadata": {
        "id": "LbWth0_lJ8gB",
        "colab": {
          "base_uri": "https://localhost:8080/"
        },
        "outputId": "5aee0cea-c2cb-4795-fd08-73d55d9209e5"
      },
      "outputs": [
        {
          "output_type": "execute_result",
          "data": {
            "text/plain": [
              "False"
            ]
          },
          "metadata": {},
          "execution_count": 31
        }
      ],
      "source": [
        "# Melakukan pengecekan keberadaan 'Rhoma' pada list nama_teman\n",
        "\n",
        "'Rhoma' in nama_teman"
      ]
    },
    {
      "cell_type": "code",
      "execution_count": 32,
      "metadata": {
        "id": "SEgGk5XkKIdU",
        "colab": {
          "base_uri": "https://localhost:8080/"
        },
        "outputId": "e74480c3-b503-4554-dee8-143153b08dd3"
      },
      "outputs": [
        {
          "output_type": "execute_result",
          "data": {
            "text/plain": [
              "True"
            ]
          },
          "metadata": {},
          "execution_count": 32
        }
      ],
      "source": [
        "# Melakukan pengecekan ketidak-adaan 'Rhoma' pada list nama_teman\n",
        "\n",
        "'Rhoma' not in nama_teman"
      ]
    },
    {
      "cell_type": "markdown",
      "metadata": {
        "id": "XLxgVGTX9TSy"
      },
      "source": [
        "### Growing & shrinking `list`\n",
        "Beberapa methods yang dapat mengubah ukuran dari sebuah `list`:\n",
        "1. Menambah elemen baru pada akhir sebuah list:\n",
        "```python\n",
        "nama_list.append(elemen_baru)\n",
        "```\n",
        "2. Menyisipkan elemen baru pada posisi tertentu:\n",
        "```python\n",
        "nama_list.insert(index_posisi, elemen_baru)\n",
        "```\n",
        "3. Menghapus elemen pada posisi index tertentu:\n",
        "```python\n",
        "nama_list.pop(indeks)\n",
        "```\n",
        "4. Menghapus elemen tertentu dari `list`:\n",
        "```python\n",
        "nama_list.remove(elemen)\n",
        "```\n",
        "5. Mengosongkan seluruh elemen dari `list:\n",
        "```python\n",
        "nama_list.clear()\n",
        "```"
      ]
    },
    {
      "cell_type": "code",
      "execution_count": 33,
      "metadata": {
        "id": "Bhut-OTQhHAT",
        "colab": {
          "base_uri": "https://localhost:8080/"
        },
        "outputId": "300f88c7-fc65-4dc6-9ac4-ceeb3e1708b7"
      },
      "outputs": [
        {
          "output_type": "stream",
          "name": "stdout",
          "text": [
            "['Amir', 'Budi', 'Cinta', 'Dimas', 'Edi', 'Ferdi']\n"
          ]
        }
      ],
      "source": [
        "# Menambahkan elemen baru di akhir list\n",
        "\n",
        "nama_teman_baru.append('Ferdi')\n",
        "print(nama_teman_baru)"
      ]
    },
    {
      "cell_type": "code",
      "execution_count": 34,
      "metadata": {
        "id": "VAvBlTqGk6iT",
        "colab": {
          "base_uri": "https://localhost:8080/"
        },
        "outputId": "f73f95fc-87b0-4e63-ca88-a3208236d66a"
      },
      "outputs": [
        {
          "output_type": "stream",
          "name": "stdout",
          "text": [
            "['Amir', 'Budi', 'Canda', 'Cinta', 'Dimas', 'Edi', 'Ferdi']\n"
          ]
        }
      ],
      "source": [
        "# Menyisipkan elemen baru pada indeks posisi tertentu\n",
        "\n",
        "nama_teman_baru.insert(2, 'Canda')\n",
        "print(nama_teman_baru)"
      ]
    },
    {
      "cell_type": "code",
      "execution_count": 35,
      "metadata": {
        "id": "wBUDNtMHmKOK",
        "colab": {
          "base_uri": "https://localhost:8080/"
        },
        "outputId": "ed8195ec-8902-466b-bf69-9b8477ab58b3"
      },
      "outputs": [
        {
          "output_type": "stream",
          "name": "stdout",
          "text": [
            "['Amir', 'Budi', 'Cinta', 'Dimas', 'Edi', 'Ferdi']\n"
          ]
        }
      ],
      "source": [
        "# Menghapus elemen pada index posisional tertentu\n",
        "\n",
        "nama_teman_baru.pop(2)\n",
        "print(nama_teman_baru)"
      ]
    },
    {
      "cell_type": "code",
      "execution_count": 36,
      "metadata": {
        "id": "7rtOiNMJmzqe",
        "colab": {
          "base_uri": "https://localhost:8080/"
        },
        "outputId": "dde38319-8e36-465b-f317-6de5b8ebc8b8"
      },
      "outputs": [
        {
          "output_type": "stream",
          "name": "stdout",
          "text": [
            "['Amir', 'Budi', 'Dimas', 'Edi', 'Ferdi']\n"
          ]
        }
      ],
      "source": [
        "# Menghapus elemen tertentu\n",
        "# Jika terdapat elemen yang terduplikat maka yang dihapus adalah value yang muncul pertama kali\n",
        "\n",
        "nama_teman_baru.remove('Cinta')\n",
        "print(nama_teman_baru)"
      ]
    },
    {
      "cell_type": "code",
      "execution_count": 37,
      "metadata": {
        "id": "BmZ1HqighMV1",
        "colab": {
          "base_uri": "https://localhost:8080/"
        },
        "outputId": "bee1b7a3-34c7-4697-a27f-5b119faed41f"
      },
      "outputs": [
        {
          "output_type": "stream",
          "name": "stdout",
          "text": [
            "[]\n"
          ]
        }
      ],
      "source": [
        "# Mengosongkan nama_teman\n",
        "\n",
        "nama_teman_baru.clear()\n",
        "print(nama_teman_baru)"
      ]
    },
    {
      "cell_type": "markdown",
      "metadata": {
        "id": "bDYTPQ9yGNNo"
      },
      "source": [
        "### `List` elements mutations\n",
        "Cara melakukan mutasi terhadap elemen sebuah list:\n",
        "```python\n",
        "nama_list[indeks_posisional]=elemen_pengganti\n",
        "```"
      ]
    },
    {
      "cell_type": "code",
      "execution_count": 38,
      "metadata": {
        "id": "oS2T-Ny_UJl4",
        "colab": {
          "base_uri": "https://localhost:8080/"
        },
        "outputId": "8192f848-1df8-4850-b9fa-0de9326a2413"
      },
      "outputs": [
        {
          "output_type": "stream",
          "name": "stdout",
          "text": [
            "Elemen pada list nama_teman: ['Amir', 'Beni', 'Cinta', 'Dimas', 'Edi']\n",
            "Elemen pada list teman_baru: []\n"
          ]
        }
      ],
      "source": [
        "# Mengganti elemen pada index tertentu dari list nama_teman\n",
        "# Budi akan digantikan dengan Beni\n",
        "# Ketika terjadi mutasi terhadap elemen pada list hasil copy,\n",
        "# elemen pada list original tidak mengalami perubahan!!!\n",
        "\n",
        "nama_teman[1] = 'Beni'\n",
        "print(f\"Elemen pada list nama_teman: {nama_teman}\")\n",
        "print(f\"Elemen pada list teman_baru: {nama_teman_baru}\")"
      ]
    },
    {
      "cell_type": "markdown",
      "metadata": {
        "id": "GHo5_hELi74V"
      },
      "source": [
        "### `LIST` EXERCISE!!!\n",
        "Lakukan mutasi pada setiap elemen pada list angka_ganjil:\n",
        "1. Lakukan duplikat terhadap `angka_ganjil` dan assign ke variabel baru bernama `angka_untuk_dirubah`;\n",
        "2. Lakukan operasi pangkat 2 terhadap elemen `angka_untuk_dirubah` dengan indeks == 4;\n",
        "3. Lakukan operasi pangkat 0 terhadap seluruh elemen pada `angka_ganjil`, lalu assign ke variabel bernama `angka_satu`;\n",
        "4. Lakukan operasi perkalian angka 10 dengan setiap elemen ber-**indeks ganjil** pada `angka_ganjil`, lalu assign ke sebuah variabel bernama `perkalian_sepuluh_terpilih`."
      ]
    },
    {
      "cell_type": "code",
      "source": [
        "# 1. Duplikat angka_ganjil\n",
        "angka_untuk_dirubah = angka_ganjil.copy()\n",
        "\n",
        "print(angka_untuk_dirubah)"
      ],
      "metadata": {
        "id": "Qma66JR-6PRo",
        "colab": {
          "base_uri": "https://localhost:8080/"
        },
        "outputId": "6ee9d0a3-0271-4336-a353-efe319d65d5d"
      },
      "execution_count": 49,
      "outputs": [
        {
          "output_type": "stream",
          "name": "stdout",
          "text": [
            "[1, 3, 5, 7, 9]\n"
          ]
        }
      ]
    },
    {
      "cell_type": "code",
      "execution_count": 50,
      "metadata": {
        "id": "JbxfwelAQuQA",
        "colab": {
          "base_uri": "https://localhost:8080/"
        },
        "outputId": "5013ef30-609a-4327-94d5-ca3241776025"
      },
      "outputs": [
        {
          "output_type": "stream",
          "name": "stdout",
          "text": [
            "[1, 3, 5, 7, 100]\n"
          ]
        }
      ],
      "source": [
        "# 2. Mutasi elemen ber-index == 4 pada angka_untuk_dirubah\n",
        "angka_untuk_dirubah[4] = 100\n",
        "\n",
        "print(angka_untuk_dirubah)"
      ]
    },
    {
      "cell_type": "code",
      "source": [
        "# 3. Operasi pangkat 0 terhadap seluruh elemen angka_ganjil\n",
        "angka_satu = [num**0 for num in angka_ganjil]\n",
        "print(angka_satu)"
      ],
      "metadata": {
        "id": "CpY-KNJD41A9",
        "colab": {
          "base_uri": "https://localhost:8080/"
        },
        "outputId": "5e268a7d-fbef-4416-8fe8-c9dfa61d1188"
      },
      "execution_count": 52,
      "outputs": [
        {
          "output_type": "stream",
          "name": "stdout",
          "text": [
            "[1, 1, 1, 1, 1]\n"
          ]
        }
      ]
    },
    {
      "cell_type": "code",
      "source": [
        "# 4. Operasi perkalian 10 terhadap elemen berindeks ganjil dari angka_ganjil\n",
        "perkalian_sepuluh_terpilih = [num*10 for num in angka_ganjil if num % 2]\n",
        "print(perkalian_sepuluh_terpilih)"
      ],
      "metadata": {
        "id": "crwvAfVz7XJR",
        "colab": {
          "base_uri": "https://localhost:8080/"
        },
        "outputId": "e63bf7b6-0fae-427b-df98-a0b13e3ef0e0"
      },
      "execution_count": 54,
      "outputs": [
        {
          "output_type": "stream",
          "name": "stdout",
          "text": [
            "[10, 30, 50, 70, 90]\n"
          ]
        }
      ]
    },
    {
      "cell_type": "markdown",
      "metadata": {
        "id": "FV_-gQW2rIiT"
      },
      "source": [
        "---\n",
        "## `Tuple`\n",
        "> Serupa dengan `list`, sebuah `tuple` berisikan objek bertipe rangkaian (*sequence*).\n",
        "\n",
        "Sebuah `tuple` memiliki karakteristik yang hampir seluruhnya mirip dengan `list`. Satu-satunya perbedaan karakteristik `tuple` dari `list` adalah sifatnya yang ***immutable***, dengan kata lain sebuah `tuple` bersifat *fixed* dan *unchangeable*. Oleh karena sifat *immutable* tersebut, biasanya `tuple` dipergunakan untuk menyimpan data yang bersifat konstan, seperti:\n",
        "1. Menyimpan nilai warna dalam format RGB (exp. red = (255, 0, 0));\n",
        "2. Menyimpan data geometri (exp. koordinat = (106.888111, 17.132424))."
      ]
    },
    {
      "cell_type": "markdown",
      "metadata": {
        "id": "umz2HU5OcYcx"
      },
      "source": [
        "### `Tuple` construction\n",
        "Beberapa cara untuk membuat sebuah `tuple`:\n",
        "1. Menggunakan `comma literals`:\n",
        "```python\n",
        "nama_tuple = item_1, item_2, ..., item_n\n",
        "```\n",
        "2. Menggunakan `tuple literals`:\n",
        "```python\n",
        "nama_tuple = () # Membuat tuple kosong\n",
        "nama_tuple = (elemen_1, elemen_2, ..., elemen_n)\n",
        "```\n",
        "\n",
        "3. Menggunakan `type constructor`:\n",
        "```python\n",
        "nama_tuple = tuple() # Membuat tuple kosong\n",
        "nama_tuple = tuple(iterable)\n",
        "```"
      ]
    },
    {
      "cell_type": "code",
      "execution_count": 55,
      "metadata": {
        "id": "1jxmPXfZfSEV",
        "colab": {
          "base_uri": "https://localhost:8080/"
        },
        "outputId": "723ab6cb-474a-4c34-cbc2-7b9f4965a9b7"
      },
      "outputs": [
        {
          "output_type": "stream",
          "name": "stdout",
          "text": [
            "(1000000, 2000000, 3000000, 4000000, 5000000)\n"
          ]
        }
      ],
      "source": [
        "# Membuat tuple dengan comma literals\n",
        "gaji_tuple = 1_000_000, 2_000_000, 3_000_000, 4_000_000, 5_000_000\n",
        "print(gaji_tuple)"
      ]
    },
    {
      "cell_type": "code",
      "execution_count": 56,
      "metadata": {
        "id": "-Qv2yHdnwCNj",
        "colab": {
          "base_uri": "https://localhost:8080/"
        },
        "outputId": "f8084ecd-538d-4971-86a9-2b4a3b4e932c"
      },
      "outputs": [
        {
          "output_type": "stream",
          "name": "stdout",
          "text": [
            "(25, 20, 30, 40, 50)\n"
          ]
        }
      ],
      "source": [
        "# Membuat tuple dengan tuple literals\n",
        "umur_tuple = (25, 20, 30, 40, 50)\n",
        "print(umur_tuple)"
      ]
    },
    {
      "cell_type": "code",
      "execution_count": 57,
      "metadata": {
        "id": "-VlRsHcAd438",
        "colab": {
          "base_uri": "https://localhost:8080/"
        },
        "outputId": "997b17ed-c79b-46e9-8e40-78ae582e5117"
      },
      "outputs": [
        {
          "output_type": "stream",
          "name": "stdout",
          "text": [
            "(100, 200, 300, 400, 500)\n"
          ]
        }
      ],
      "source": [
        "# Membuat tuple dengan type constructor\n",
        "kode_tuple = tuple(range(100, 501, 100))\n",
        "print(kode_tuple)"
      ]
    },
    {
      "cell_type": "markdown",
      "metadata": {
        "id": "35VD-mo2goWl"
      },
      "source": [
        "### *Common Sequence Operators*\n",
        "Berbagai *common sequence operators* yang berlaku bagi `list` juga dapat diberlakukan terhadap `tuple`."
      ]
    },
    {
      "cell_type": "code",
      "execution_count": 58,
      "metadata": {
        "id": "7kOdOIElwOrD",
        "colab": {
          "base_uri": "https://localhost:8080/"
        },
        "outputId": "160a19a1-0bb0-4982-b422-7d0fb97b2ec0"
      },
      "outputs": [
        {
          "output_type": "stream",
          "name": "stdout",
          "text": [
            "Jumlah elemen pada umur_tuple: 5 elemen\n"
          ]
        }
      ],
      "source": [
        "# Menampilkan jumlah elemen pada puluhan_tuple\n",
        "print(f\"Jumlah elemen pada umur_tuple: {len(umur_tuple)} elemen\")"
      ]
    },
    {
      "cell_type": "code",
      "execution_count": 59,
      "metadata": {
        "id": "z0JRHxQVwQvv",
        "colab": {
          "base_uri": "https://localhost:8080/"
        },
        "outputId": "1caf874c-6af9-46ef-f57f-88ef658468a6"
      },
      "outputs": [
        {
          "output_type": "stream",
          "name": "stdout",
          "text": [
            "Banyaknya nilai 20 pada umur_tuple: 1 elemen\n"
          ]
        }
      ],
      "source": [
        "# Menampilkan kemunculan elemen bernilai 10 pada puluhan_tuple\n",
        "print(f\"Banyaknya nilai 20 pada umur_tuple: {umur_tuple.count(20)} elemen\")"
      ]
    },
    {
      "cell_type": "code",
      "execution_count": 60,
      "metadata": {
        "id": "c0eDAOpEK-XN",
        "colab": {
          "base_uri": "https://localhost:8080/"
        },
        "outputId": "25778c8b-5958-4b42-c929-7ad70599c8b9"
      },
      "outputs": [
        {
          "output_type": "stream",
          "name": "stdout",
          "text": [
            "Posisi index dari 30 pada umur_tuple adalah: ke-2\n"
          ]
        }
      ],
      "source": [
        "# Menampilkan indeks posisional dari sebuah elemen pada puluhan_tuple\n",
        "print(f\"Posisi index dari 30 pada umur_tuple adalah: ke-{umur_tuple.index(30)}\")"
      ]
    },
    {
      "cell_type": "code",
      "execution_count": 61,
      "metadata": {
        "id": "lBixP0HLwF7T",
        "colab": {
          "base_uri": "https://localhost:8080/"
        },
        "outputId": "8955cb2a-bb15-491c-dfd6-4b6d94884973"
      },
      "outputs": [
        {
          "output_type": "stream",
          "name": "stdout",
          "text": [
            "Elemen pada posisi indeks ke-3 adalah: 40\n"
          ]
        }
      ],
      "source": [
        "# Menampilkan elemen dengan index posisional 3 pada tuple\n",
        "print(f\"Elemen pada posisi indeks ke-3 adalah: {umur_tuple[3]}\")"
      ]
    },
    {
      "cell_type": "code",
      "execution_count": 62,
      "metadata": {
        "id": "9AU1z6_rwJbG",
        "colab": {
          "base_uri": "https://localhost:8080/"
        },
        "outputId": "f6ecd6cf-eab7-41b8-8a10-0ce0487aab9c"
      },
      "outputs": [
        {
          "output_type": "stream",
          "name": "stdout",
          "text": [
            "(25, 30, 50)\n"
          ]
        }
      ],
      "source": [
        "# Slicing pada tuple\n",
        "print(umur_tuple[::2])"
      ]
    },
    {
      "cell_type": "code",
      "execution_count": 63,
      "metadata": {
        "id": "KOQAHReIMXJX",
        "colab": {
          "base_uri": "https://localhost:8080/"
        },
        "outputId": "d5d94acf-1b41-48de-a438-d3618bf56b82"
      },
      "outputs": [
        {
          "output_type": "stream",
          "name": "stdout",
          "text": [
            "(25, 20, 30, 40, 50, 25, 20, 30, 40, 50, 25, 20, 30, 40, 50)\n"
          ]
        }
      ],
      "source": [
        "# Repetition sebanyak 3 kali\n",
        "print(umur_tuple*3)"
      ]
    },
    {
      "cell_type": "code",
      "execution_count": 64,
      "metadata": {
        "id": "AYNBGPqFMnwd",
        "colab": {
          "base_uri": "https://localhost:8080/"
        },
        "outputId": "91a5c30e-9628-459a-e262-510c928b4ad3"
      },
      "outputs": [
        {
          "output_type": "stream",
          "name": "stdout",
          "text": [
            "Hasil concatenation umur_tuple dengan gaji_tuple = (25, 20, 30, 40, 50, 1000000, 2000000, 3000000, 4000000, 5000000)\n"
          ]
        }
      ],
      "source": [
        "# Concatenation\n",
        "print(f\"Hasil concatenation umur_tuple dengan gaji_tuple = {umur_tuple+gaji_tuple}\")"
      ]
    },
    {
      "cell_type": "code",
      "execution_count": 65,
      "metadata": {
        "id": "85LUmIpUNPoL",
        "colab": {
          "base_uri": "https://localhost:8080/"
        },
        "outputId": "432d2a09-bb0a-4274-e085-0d803d1e647b"
      },
      "outputs": [
        {
          "output_type": "execute_result",
          "data": {
            "text/plain": [
              "50"
            ]
          },
          "metadata": {},
          "execution_count": 65
        }
      ],
      "source": [
        "# Mencari nilai max\n",
        "max(umur_tuple)"
      ]
    },
    {
      "cell_type": "code",
      "execution_count": 66,
      "metadata": {
        "id": "PLEaabKpNXCm",
        "colab": {
          "base_uri": "https://localhost:8080/"
        },
        "outputId": "8d55fa0e-fcb9-4fc3-e8d7-0211ebc4b507"
      },
      "outputs": [
        {
          "output_type": "execute_result",
          "data": {
            "text/plain": [
              "20"
            ]
          },
          "metadata": {},
          "execution_count": 66
        }
      ],
      "source": [
        "# Mencari nilai min\n",
        "min(umur_tuple)"
      ]
    },
    {
      "cell_type": "code",
      "execution_count": 67,
      "metadata": {
        "id": "AxDSSIKoNdDt",
        "colab": {
          "base_uri": "https://localhost:8080/"
        },
        "outputId": "1f5449b8-83cd-49b3-9d0a-27efe2e9d7ed"
      },
      "outputs": [
        {
          "output_type": "execute_result",
          "data": {
            "text/plain": [
              "False"
            ]
          },
          "metadata": {},
          "execution_count": 67
        }
      ],
      "source": [
        "# Melakukan pengecekan keberadaan 70 pada puluhan_tuple\n",
        "70 in umur_tuple"
      ]
    },
    {
      "cell_type": "code",
      "execution_count": 68,
      "metadata": {
        "id": "7Rr4rwtvNdbw",
        "colab": {
          "base_uri": "https://localhost:8080/"
        },
        "outputId": "4f0e4b00-cd3e-47bd-9b09-abadb3ad9b29"
      },
      "outputs": [
        {
          "output_type": "execute_result",
          "data": {
            "text/plain": [
              "True"
            ]
          },
          "metadata": {},
          "execution_count": 68
        }
      ],
      "source": [
        "# Melakukan pengecekan ketidak-adaan 70 pada puluhan_tuple\n",
        "\n",
        "70 not in umur_tuple"
      ]
    },
    {
      "cell_type": "markdown",
      "metadata": {
        "id": "tN7rubaBhJ6K"
      },
      "source": [
        "### `TUPLE` EXERCISES!!!\n",
        "**EXERCISE 1** -- Buatlah sebuah `tuple` sebagai berikut:\n",
        "  1. Berisi angka bulat yang bernilai antara 100 hingga 0, dengan step penurunan sebesar 5;\n",
        "  3. Assign `tuple` tersebut ke variable `tuple_menurun`;\n",
        "  4. Tampilkan `tuple_menurun` ke layar.\n"
      ]
    },
    {
      "cell_type": "code",
      "execution_count": 69,
      "metadata": {
        "id": "-JW5IZVDwMNY",
        "colab": {
          "base_uri": "https://localhost:8080/"
        },
        "outputId": "5ec991d4-ac72-4316-bcf9-e810c42edda1"
      },
      "outputs": [
        {
          "output_type": "stream",
          "name": "stdout",
          "text": [
            "(100, 99, 98, 97, 96, 95, 94, 93, 92, 91, 90, 89, 88, 87, 86, 85, 84, 83, 82, 81, 80, 79, 78, 77, 76, 75, 74, 73, 72, 71, 70, 69, 68, 67, 66, 65, 64, 63, 62, 61, 60, 59, 58, 57, 56, 55, 54, 53, 52, 51, 50, 49, 48, 47, 46, 45, 44, 43, 42, 41, 40, 39, 38, 37, 36, 35, 34, 33, 32, 31, 30, 29, 28, 27, 26, 25, 24, 23, 22, 21, 20, 19, 18, 17, 16, 15, 14, 13, 12, 11, 10, 9, 8, 7, 6, 5, 4, 3, 2, 1)\n"
          ]
        }
      ],
      "source": [
        "tuple_menurun = tuple(range(100,0,-1))\n",
        "\n",
        "print(tuple_menurun)"
      ]
    },
    {
      "cell_type": "markdown",
      "source": [
        "**EXERCISE 2** -- Lakukan operasi pangkat 25 terhadap terhadap elemen berindex 25 pada `tuple_menurun`."
      ],
      "metadata": {
        "id": "jVaU5bgiyhtk"
      }
    },
    {
      "cell_type": "code",
      "source": [
        "tuple_menurun[25]**25"
      ],
      "metadata": {
        "id": "8SFJY87_yJIs",
        "colab": {
          "base_uri": "https://localhost:8080/"
        },
        "outputId": "04de60ee-c690-43c2-c691-9ef233a589ea"
      },
      "execution_count": 70,
      "outputs": [
        {
          "output_type": "execute_result",
          "data": {
            "text/plain": [
              "75254345816500034516138839535415172576904296875"
            ]
          },
          "metadata": {},
          "execution_count": 70
        }
      ]
    },
    {
      "cell_type": "markdown",
      "source": [
        "___\n",
        "#### 1. PENGENALAN OBJECT `pd.Series`\n",
        "\n",
        "> `pd.Series` adalah sebuah objek modul `pandas` yang berupa rangkaian object 1 dimensi.\n",
        "\n",
        "Sebuah `pd.Series` dapat disusun dengan cara:\n",
        "1. Memasukkan sebuah `list` atau `tuple` ke dalam method `pd.Series`;\n",
        "2. Mengambil setiap elemen pada sebuah `columns` dari sebuah `DataFrame`; atau\n",
        "3. Mengambil setiap elemen pada sebuah `row` dari sebuah `DataFrame`.\n",
        "\n",
        "Sebuah `pd.Series` akan memiliki attribut/karakteristik hampir serupa dengan yang dimiliki oleh sebuah `list`, kecuali `zero-based`, karena index dari sebuah `pd.Series` dapat bertipe data apapun selama bersifat unik.\n",
        "\n"
      ],
      "metadata": {
        "id": "0OFwQTzSwECV"
      }
    },
    {
      "cell_type": "code",
      "source": [
        "# Mengimpor modul yang diperlukan\n",
        "import pandas as pd\n",
        "\n",
        "# Set file path\n",
        "file_path = \"https://storage.googleapis.com/dqlab-dataset/SuperStore.csv\"\n",
        "\n",
        "# Mengimport dataset ke dalam sebuah DataFrame\n",
        "df_sales = pd.read_csv(file_path)"
      ],
      "metadata": {
        "id": "U9T4s4Xvx9s6"
      },
      "execution_count": 71,
      "outputs": []
    },
    {
      "cell_type": "code",
      "source": [
        "# 1.a. Membuat sebuah Series dari sebuah `list`\n",
        "print(\"`nama_teman` adalah sebuah\", type(nama_teman))\n",
        "# Masukkan `nama_teman` ke dalam `pd.Series`\n",
        "nama_teman_series = pd.Series(nama_teman, name='Nama_Teman')\n",
        "# `nama_teman_series` adalah sebuah `pd.Series`\n",
        "print(\"'nama_teman_series' adalah sebuah\", type(nama_teman_series))\n",
        "# Lihat isi nama_teman_series\n",
        "nama_teman_series"
      ],
      "metadata": {
        "id": "Rk3rS0Q2ysDQ",
        "colab": {
          "base_uri": "https://localhost:8080/",
          "height": 275
        },
        "outputId": "a377de3f-3a08-4ba2-ba44-7ef81ffac1eb"
      },
      "execution_count": 73,
      "outputs": [
        {
          "output_type": "stream",
          "name": "stdout",
          "text": [
            "`nama_teman` adalah sebuah <class 'list'>\n",
            "'nama_teman_series' adalah sebuah <class 'pandas.core.series.Series'>\n"
          ]
        },
        {
          "output_type": "execute_result",
          "data": {
            "text/plain": [
              "0     Amir\n",
              "1     Beni\n",
              "2    Cinta\n",
              "3    Dimas\n",
              "4      Edi\n",
              "Name: Nama_Teman, dtype: object"
            ],
            "text/html": [
              "<div>\n",
              "<style scoped>\n",
              "    .dataframe tbody tr th:only-of-type {\n",
              "        vertical-align: middle;\n",
              "    }\n",
              "\n",
              "    .dataframe tbody tr th {\n",
              "        vertical-align: top;\n",
              "    }\n",
              "\n",
              "    .dataframe thead th {\n",
              "        text-align: right;\n",
              "    }\n",
              "</style>\n",
              "<table border=\"1\" class=\"dataframe\">\n",
              "  <thead>\n",
              "    <tr style=\"text-align: right;\">\n",
              "      <th></th>\n",
              "      <th>Nama_Teman</th>\n",
              "    </tr>\n",
              "  </thead>\n",
              "  <tbody>\n",
              "    <tr>\n",
              "      <th>0</th>\n",
              "      <td>Amir</td>\n",
              "    </tr>\n",
              "    <tr>\n",
              "      <th>1</th>\n",
              "      <td>Beni</td>\n",
              "    </tr>\n",
              "    <tr>\n",
              "      <th>2</th>\n",
              "      <td>Cinta</td>\n",
              "    </tr>\n",
              "    <tr>\n",
              "      <th>3</th>\n",
              "      <td>Dimas</td>\n",
              "    </tr>\n",
              "    <tr>\n",
              "      <th>4</th>\n",
              "      <td>Edi</td>\n",
              "    </tr>\n",
              "  </tbody>\n",
              "</table>\n",
              "</div><br><label><b>dtype:</b> object</label>"
            ]
          },
          "metadata": {},
          "execution_count": 73
        }
      ]
    },
    {
      "cell_type": "code",
      "source": [
        "# 1.b. Membuat sebuah Series dari sebuah `tuple`\n",
        "print(\"`umur_tuple` adalah sebuah\", type(umur_tuple))\n",
        "# Masukan `puluhan_tuple` ke dalam `pd.Series`\n",
        "umur_tuple_series = pd.Series(umur_tuple, name='Umur')\n",
        "# `puluhan_tuple_series` adalah sebuah `pd.Series`\n",
        "print(\"'umur_tuple_series' adalah sebuah\", type(umur_tuple_series))\n",
        "# lihat isi puluhan_tuple_series\n",
        "umur_tuple_series"
      ],
      "metadata": {
        "id": "2mQnApy8uCog",
        "colab": {
          "base_uri": "https://localhost:8080/",
          "height": 275
        },
        "outputId": "a2baeb9c-bb92-40d9-8a1b-729cd0599739"
      },
      "execution_count": 74,
      "outputs": [
        {
          "output_type": "stream",
          "name": "stdout",
          "text": [
            "`umur_tuple` adalah sebuah <class 'tuple'>\n",
            "'umur_tuple_series' adalah sebuah <class 'pandas.core.series.Series'>\n"
          ]
        },
        {
          "output_type": "execute_result",
          "data": {
            "text/plain": [
              "0    25\n",
              "1    20\n",
              "2    30\n",
              "3    40\n",
              "4    50\n",
              "Name: Umur, dtype: int64"
            ],
            "text/html": [
              "<div>\n",
              "<style scoped>\n",
              "    .dataframe tbody tr th:only-of-type {\n",
              "        vertical-align: middle;\n",
              "    }\n",
              "\n",
              "    .dataframe tbody tr th {\n",
              "        vertical-align: top;\n",
              "    }\n",
              "\n",
              "    .dataframe thead th {\n",
              "        text-align: right;\n",
              "    }\n",
              "</style>\n",
              "<table border=\"1\" class=\"dataframe\">\n",
              "  <thead>\n",
              "    <tr style=\"text-align: right;\">\n",
              "      <th></th>\n",
              "      <th>Umur</th>\n",
              "    </tr>\n",
              "  </thead>\n",
              "  <tbody>\n",
              "    <tr>\n",
              "      <th>0</th>\n",
              "      <td>25</td>\n",
              "    </tr>\n",
              "    <tr>\n",
              "      <th>1</th>\n",
              "      <td>20</td>\n",
              "    </tr>\n",
              "    <tr>\n",
              "      <th>2</th>\n",
              "      <td>30</td>\n",
              "    </tr>\n",
              "    <tr>\n",
              "      <th>3</th>\n",
              "      <td>40</td>\n",
              "    </tr>\n",
              "    <tr>\n",
              "      <th>4</th>\n",
              "      <td>50</td>\n",
              "    </tr>\n",
              "  </tbody>\n",
              "</table>\n",
              "</div><br><label><b>dtype:</b> int64</label>"
            ]
          },
          "metadata": {},
          "execution_count": 74
        }
      ]
    },
    {
      "cell_type": "code",
      "source": [
        "# 2. Membuat sebuah Series dari sebuah kolom pada dataframe\n",
        "isi_kolom_sales = df_sales['Sales']\n",
        "# Cek tipe object dari `isi_kolom_sales`\n",
        "print(\"Seluruh elemen pada kolom `Sales` dari dataframe `df_sales` adalah\", type(isi_kolom_sales))\n",
        "# Melihat seluruh isi sebuah series berasal dari kolom dataframe\n",
        "isi_kolom_sales"
      ],
      "metadata": {
        "id": "aOIkiqgfzQbT",
        "colab": {
          "base_uri": "https://localhost:8080/",
          "height": 475
        },
        "outputId": "049dffc8-dca7-4b77-a3db-1a87ab4c1062"
      },
      "execution_count": 75,
      "outputs": [
        {
          "output_type": "stream",
          "name": "stdout",
          "text": [
            "Seluruh elemen pada kolom `Sales` dari dataframe `df_sales` adalah <class 'pandas.core.series.Series'>\n"
          ]
        },
        {
          "output_type": "execute_result",
          "data": {
            "text/plain": [
              "0       261.9600\n",
              "1       731.9400\n",
              "2        14.6200\n",
              "3       957.5775\n",
              "4        22.3680\n",
              "          ...   \n",
              "9989     25.2480\n",
              "9990     91.9600\n",
              "9991    258.5760\n",
              "9992     29.6000\n",
              "9993    243.1600\n",
              "Name: Sales, Length: 9994, dtype: float64"
            ],
            "text/html": [
              "<div>\n",
              "<style scoped>\n",
              "    .dataframe tbody tr th:only-of-type {\n",
              "        vertical-align: middle;\n",
              "    }\n",
              "\n",
              "    .dataframe tbody tr th {\n",
              "        vertical-align: top;\n",
              "    }\n",
              "\n",
              "    .dataframe thead th {\n",
              "        text-align: right;\n",
              "    }\n",
              "</style>\n",
              "<table border=\"1\" class=\"dataframe\">\n",
              "  <thead>\n",
              "    <tr style=\"text-align: right;\">\n",
              "      <th></th>\n",
              "      <th>Sales</th>\n",
              "    </tr>\n",
              "  </thead>\n",
              "  <tbody>\n",
              "    <tr>\n",
              "      <th>0</th>\n",
              "      <td>261.9600</td>\n",
              "    </tr>\n",
              "    <tr>\n",
              "      <th>1</th>\n",
              "      <td>731.9400</td>\n",
              "    </tr>\n",
              "    <tr>\n",
              "      <th>2</th>\n",
              "      <td>14.6200</td>\n",
              "    </tr>\n",
              "    <tr>\n",
              "      <th>3</th>\n",
              "      <td>957.5775</td>\n",
              "    </tr>\n",
              "    <tr>\n",
              "      <th>4</th>\n",
              "      <td>22.3680</td>\n",
              "    </tr>\n",
              "    <tr>\n",
              "      <th>...</th>\n",
              "      <td>...</td>\n",
              "    </tr>\n",
              "    <tr>\n",
              "      <th>9989</th>\n",
              "      <td>25.2480</td>\n",
              "    </tr>\n",
              "    <tr>\n",
              "      <th>9990</th>\n",
              "      <td>91.9600</td>\n",
              "    </tr>\n",
              "    <tr>\n",
              "      <th>9991</th>\n",
              "      <td>258.5760</td>\n",
              "    </tr>\n",
              "    <tr>\n",
              "      <th>9992</th>\n",
              "      <td>29.6000</td>\n",
              "    </tr>\n",
              "    <tr>\n",
              "      <th>9993</th>\n",
              "      <td>243.1600</td>\n",
              "    </tr>\n",
              "  </tbody>\n",
              "</table>\n",
              "<p>9994 rows × 1 columns</p>\n",
              "</div><br><label><b>dtype:</b> float64</label>"
            ]
          },
          "metadata": {},
          "execution_count": 75
        }
      ]
    },
    {
      "cell_type": "code",
      "source": [
        "# 3. Membuat sebuah Series dari sebuah row pada dataframe\n",
        "isi_row_tertentu = df_sales.loc[0, :]\n",
        "# Cek tipe object `isi_row_tertentu`\n",
        "print(\"Setiap row pada sebuah dataframe pada dasarnya adalah sebuah\", type(isi_row_tertentu))\n",
        "# Melihat isi sebuah series berasal dari row dataframe\n",
        "isi_row_tertentu"
      ],
      "metadata": {
        "id": "RuP_GFVGzpYF",
        "colab": {
          "base_uri": "https://localhost:8080/",
          "height": 728
        },
        "outputId": "bbd098be-55a6-4275-ab6b-c2c5ebee2d47"
      },
      "execution_count": 76,
      "outputs": [
        {
          "output_type": "stream",
          "name": "stdout",
          "text": [
            "Setiap row pada sebuah dataframe pada dasarnya adalah sebuah <class 'pandas.core.series.Series'>\n"
          ]
        },
        {
          "output_type": "execute_result",
          "data": {
            "text/plain": [
              "Order_ID                             CA-2019-152156\n",
              "Customer_ID                                CG-12520\n",
              "Postal_Code                                   42420\n",
              "Product_ID                          FUR-BO-10001798\n",
              "Sales                                        261.96\n",
              "Quantity                                          2\n",
              "Discount                                        0.0\n",
              "Profit                                      41.9136\n",
              "Category                                  Furniture\n",
              "Sub-Category                              Bookcases\n",
              "Product_Name      Bush Somerset Collection Bookcase\n",
              "Order_Date                                11/8/2019\n",
              "Ship_Date                                11/11/2019\n",
              "Ship_Mode                              Second Class\n",
              "Customer_Name                           Claire Gute\n",
              "Segment                                    Consumer\n",
              "Country/Region                        United States\n",
              "City                                      Henderson\n",
              "State                                      Kentucky\n",
              "Region                                        South\n",
              "Name: 0, dtype: object"
            ],
            "text/html": [
              "<div>\n",
              "<style scoped>\n",
              "    .dataframe tbody tr th:only-of-type {\n",
              "        vertical-align: middle;\n",
              "    }\n",
              "\n",
              "    .dataframe tbody tr th {\n",
              "        vertical-align: top;\n",
              "    }\n",
              "\n",
              "    .dataframe thead th {\n",
              "        text-align: right;\n",
              "    }\n",
              "</style>\n",
              "<table border=\"1\" class=\"dataframe\">\n",
              "  <thead>\n",
              "    <tr style=\"text-align: right;\">\n",
              "      <th></th>\n",
              "      <th>0</th>\n",
              "    </tr>\n",
              "  </thead>\n",
              "  <tbody>\n",
              "    <tr>\n",
              "      <th>Order_ID</th>\n",
              "      <td>CA-2019-152156</td>\n",
              "    </tr>\n",
              "    <tr>\n",
              "      <th>Customer_ID</th>\n",
              "      <td>CG-12520</td>\n",
              "    </tr>\n",
              "    <tr>\n",
              "      <th>Postal_Code</th>\n",
              "      <td>42420</td>\n",
              "    </tr>\n",
              "    <tr>\n",
              "      <th>Product_ID</th>\n",
              "      <td>FUR-BO-10001798</td>\n",
              "    </tr>\n",
              "    <tr>\n",
              "      <th>Sales</th>\n",
              "      <td>261.96</td>\n",
              "    </tr>\n",
              "    <tr>\n",
              "      <th>Quantity</th>\n",
              "      <td>2</td>\n",
              "    </tr>\n",
              "    <tr>\n",
              "      <th>Discount</th>\n",
              "      <td>0.0</td>\n",
              "    </tr>\n",
              "    <tr>\n",
              "      <th>Profit</th>\n",
              "      <td>41.9136</td>\n",
              "    </tr>\n",
              "    <tr>\n",
              "      <th>Category</th>\n",
              "      <td>Furniture</td>\n",
              "    </tr>\n",
              "    <tr>\n",
              "      <th>Sub-Category</th>\n",
              "      <td>Bookcases</td>\n",
              "    </tr>\n",
              "    <tr>\n",
              "      <th>Product_Name</th>\n",
              "      <td>Bush Somerset Collection Bookcase</td>\n",
              "    </tr>\n",
              "    <tr>\n",
              "      <th>Order_Date</th>\n",
              "      <td>11/8/2019</td>\n",
              "    </tr>\n",
              "    <tr>\n",
              "      <th>Ship_Date</th>\n",
              "      <td>11/11/2019</td>\n",
              "    </tr>\n",
              "    <tr>\n",
              "      <th>Ship_Mode</th>\n",
              "      <td>Second Class</td>\n",
              "    </tr>\n",
              "    <tr>\n",
              "      <th>Customer_Name</th>\n",
              "      <td>Claire Gute</td>\n",
              "    </tr>\n",
              "    <tr>\n",
              "      <th>Segment</th>\n",
              "      <td>Consumer</td>\n",
              "    </tr>\n",
              "    <tr>\n",
              "      <th>Country/Region</th>\n",
              "      <td>United States</td>\n",
              "    </tr>\n",
              "    <tr>\n",
              "      <th>City</th>\n",
              "      <td>Henderson</td>\n",
              "    </tr>\n",
              "    <tr>\n",
              "      <th>State</th>\n",
              "      <td>Kentucky</td>\n",
              "    </tr>\n",
              "    <tr>\n",
              "      <th>Region</th>\n",
              "      <td>South</td>\n",
              "    </tr>\n",
              "  </tbody>\n",
              "</table>\n",
              "</div><br><label><b>dtype:</b> object</label>"
            ]
          },
          "metadata": {},
          "execution_count": 76
        }
      ]
    },
    {
      "cell_type": "code",
      "source": [
        "# Menunjukkan nama dari sebuah Series dilakukan dengan menggunakan attribut `name`\n",
        "nama_teman_series.name"
      ],
      "metadata": {
        "id": "Y41hYfvBse5R",
        "colab": {
          "base_uri": "https://localhost:8080/",
          "height": 36
        },
        "outputId": "550e93e9-5572-458c-fb78-e5d905624fdd"
      },
      "execution_count": 77,
      "outputs": [
        {
          "output_type": "execute_result",
          "data": {
            "text/plain": [
              "'Nama_Teman'"
            ],
            "application/vnd.google.colaboratory.intrinsic+json": {
              "type": "string"
            }
          },
          "metadata": {},
          "execution_count": 77
        }
      ]
    },
    {
      "cell_type": "code",
      "source": [
        "# Menunjukkan berbagai index pada sebuah Series dilakukan dengan menggunakan attribut `index`\n",
        "isi_row_tertentu.index"
      ],
      "metadata": {
        "id": "qqfTP8Mlr-4W",
        "colab": {
          "base_uri": "https://localhost:8080/"
        },
        "outputId": "fac6a3c8-1c8f-418b-8f35-e4c2d730d880"
      },
      "execution_count": 78,
      "outputs": [
        {
          "output_type": "execute_result",
          "data": {
            "text/plain": [
              "Index(['Order_ID', 'Customer_ID', 'Postal_Code', 'Product_ID', 'Sales',\n",
              "       'Quantity', 'Discount', 'Profit', 'Category', 'Sub-Category',\n",
              "       'Product_Name', 'Order_Date', 'Ship_Date', 'Ship_Mode', 'Customer_Name',\n",
              "       'Segment', 'Country/Region', 'City', 'State', 'Region'],\n",
              "      dtype='object')"
            ]
          },
          "metadata": {},
          "execution_count": 78
        }
      ]
    },
    {
      "cell_type": "code",
      "source": [
        "# Menunjukkan besaran dimensi dari sebuah Series\n",
        "isi_row_tertentu.shape"
      ],
      "metadata": {
        "id": "VPtnfEJqtVe5",
        "colab": {
          "base_uri": "https://localhost:8080/"
        },
        "outputId": "f6ef0530-7e71-4346-fce5-212fc13ee959"
      },
      "execution_count": 79,
      "outputs": [
        {
          "output_type": "execute_result",
          "data": {
            "text/plain": [
              "(20,)"
            ]
          },
          "metadata": {},
          "execution_count": 79
        }
      ]
    },
    {
      "cell_type": "code",
      "source": [
        "# Menampilkan elemen tertentu dari sebuah Series dapat dilakukan menggunakan indexnya\n",
        "print(\"Elemen dengan index `0` pada `nama_teman_series` adalah\", nama_teman_series[0])\n",
        "print(\"Elemen dengan index `0` pada `isi_kolom_sales` adalah\", isi_kolom_sales[0])\n",
        "print(\"Elemen dengan index `State` pada `isi_row_tertentu` adalah\", isi_row_tertentu['State'])"
      ],
      "metadata": {
        "id": "tZFS5wah0tJ1",
        "colab": {
          "base_uri": "https://localhost:8080/"
        },
        "outputId": "119fd20a-cf25-4f07-aa63-8195642187f8"
      },
      "execution_count": 80,
      "outputs": [
        {
          "output_type": "stream",
          "name": "stdout",
          "text": [
            "Elemen dengan index `0` pada `nama_teman_series` adalah Amir\n",
            "Elemen dengan index `0` pada `isi_kolom_sales` adalah 261.96\n",
            "Elemen dengan index `State` pada `isi_row_tertentu` adalah Kentucky\n"
          ]
        }
      ]
    },
    {
      "cell_type": "markdown",
      "metadata": {
        "id": "jaqzhRxwrLh1"
      },
      "source": [
        "---\n",
        "## `Set`\n",
        "> `Set` adalah sebuah objek berisi koleksi objek yang *unordered*, bersifat unik, dan *hashable*.\n",
        "\n",
        "`Set` adalah sebuah tipe data di Python yang berisi kumpulan elemen unik dan *unordered*. Artinya, tidak ada elemen yang terduplikasi dalam `Set`, dan elemen-elemen di dalamnya tidak memiliki urutan tertentu seperti halnya pada *list* atau *tuple*. Ini berguna saat kita hanya perlu memastikan bahwa setiap item hanya muncul sekali.\n",
        "\n",
        "Setiap elemen dalam `Set` bersifat *hashable*, yang berarti elemen-elemen tersebut dapat memiliki nilai unik yang memudahkan Python untuk memproses dan mencari elemen dalam `Set` dengan cepat. Struktur data `Set` ini dioptimalkan untuk operasi keanggotaan (membership testing) dan perbandingan.\n",
        "\n",
        "Python menyediakan beberapa operasi bawaan yang efisien untuk bekerja dengan `Set`, seperti:\n",
        "- **Gabungan (Union)**, untuk menggabungkan dua atau lebih set.\n",
        "- **Irisan (Intersection)**, untuk mendapatkan elemen yang ada di kedua set.\n",
        "- **Selisih (Difference)**, untuk mendapatkan elemen yang ada di satu set tetapi tidak di set lain.\n",
        "- **Eksklusif (Symmetric Difference)**, untuk mendapatkan elemen yang hanya ada di salah satu set saja.\n",
        "\n",
        "Dalam praktek pengolahan data dengan menggunakan Python, `Set` sering digunakan untuk:\n",
        "- Menyaring duplikasi dari data.\n",
        "- Melakukan tes cepat apakah suatu item terdapat dalam kumpulan.\n",
        "- Melakukan operasi himpunan seperti penggabungan dan irisan pada data yang unik."
      ]
    },
    {
      "cell_type": "markdown",
      "metadata": {
        "id": "lXFsp506Liv4"
      },
      "source": [
        "### `Set` Construction\n",
        "Beberapa cara membuat set:\n",
        "1. Menggunakan `set constructor`:\n",
        "```python\n",
        "nama_set = set() # Membuat set kosong\n",
        "nama_set = set(iterable)\n",
        "```\n",
        "2. Menggunakan `type literals`:\n",
        "```python\n",
        "nama_set = {objek_1, objek_2, ..., objek_n}\n",
        "```"
      ]
    },
    {
      "cell_type": "code",
      "execution_count": 81,
      "metadata": {
        "id": "wgnrjwk_A4rN",
        "colab": {
          "base_uri": "https://localhost:8080/"
        },
        "outputId": "5de0c5e2-7123-422e-8ca4-213893213546"
      },
      "outputs": [
        {
          "output_type": "stream",
          "name": "stdout",
          "text": [
            "{'Beni', 'Cinta', 'Amir', 'Dimas', 'Edi'}\n"
          ]
        }
      ],
      "source": [
        "# Membuat set dari list nama_teman menggunakan constructor\n",
        "\n",
        "nama_teman_set = set(nama_teman)\n",
        "print(nama_teman_set)"
      ]
    },
    {
      "cell_type": "code",
      "execution_count": 82,
      "metadata": {
        "id": "ahEti0sVH9C9",
        "colab": {
          "base_uri": "https://localhost:8080/"
        },
        "outputId": "0b3e91e0-3f41-4a16-a418-9ecf72d70891"
      },
      "outputs": [
        {
          "output_type": "stream",
          "name": "stdout",
          "text": [
            "{'Soneta', 'Rhoma', 'Ani', 'Ridho'}\n"
          ]
        }
      ],
      "source": [
        "# Membuat set menggunakan literals\n",
        "\n",
        "teman_lama_set = {\"Rhoma\", \"Ani\", \"Ridho\", \"Soneta\"}\n",
        "print(teman_lama_set)"
      ]
    },
    {
      "cell_type": "markdown",
      "metadata": {
        "id": "J1rlldykEz60"
      },
      "source": [
        "### Growing & Shrinking `set`"
      ]
    },
    {
      "cell_type": "code",
      "execution_count": 83,
      "metadata": {
        "id": "C_wlJTlpKMT5",
        "colab": {
          "base_uri": "https://localhost:8080/"
        },
        "outputId": "dd0ccf75-54f2-4c29-efbe-c693ec873256"
      },
      "outputs": [
        {
          "output_type": "stream",
          "name": "stdout",
          "text": [
            "{'Beni', 'Ani', 'Cinta', 'Amir', 'Dimas', 'Edi'}\n"
          ]
        }
      ],
      "source": [
        "# Menambah sebuah elemen baru ke dalam set\n",
        "\n",
        "nama_teman_set.add('Ani')\n",
        "print(nama_teman_set)"
      ]
    },
    {
      "cell_type": "code",
      "execution_count": 84,
      "metadata": {
        "id": "R9CmV3mCCm2j",
        "colab": {
          "base_uri": "https://localhost:8080/"
        },
        "outputId": "bd96e486-01ec-43e6-d182-d5e0679d77b0"
      },
      "outputs": [
        {
          "output_type": "stream",
          "name": "stdout",
          "text": [
            "{'Firman', 'Beni', 'Ani', 'Cinta', 'Amir', 'Rudi', 'Dimas', 'Edi'}\n"
          ]
        }
      ],
      "source": [
        "# Menambahkan sebuah set lain,\n",
        "\n",
        "nama_teman_set.update({'Firman','Rudi', 'Beni'})\n",
        "# Apa yang terjadi jika menambah elemen yang sudah ada sebelumnya??\n",
        "\n",
        "print(nama_teman_set)"
      ]
    },
    {
      "cell_type": "code",
      "execution_count": 85,
      "metadata": {
        "id": "BbEohvJVCt6h",
        "colab": {
          "base_uri": "https://localhost:8080/"
        },
        "outputId": "09723a2a-480a-430b-824d-681f1129201c"
      },
      "outputs": [
        {
          "output_type": "stream",
          "name": "stdout",
          "text": [
            "{'Firman', 'Beni', 'Ani', 'Cinta', 'Amir', 'Dimas', 'Edi'}\n"
          ]
        }
      ],
      "source": [
        "# Me-remove 'Rudi' dari himpunan\n",
        "\n",
        "nama_teman_set.remove('Rudi')\n",
        "\n",
        "print(nama_teman_set)"
      ]
    },
    {
      "cell_type": "code",
      "execution_count": null,
      "metadata": {
        "id": "fY40xiHiC2f3"
      },
      "outputs": [],
      "source": [
        "# Apa yang terjadi jika mencoba untuk me-remove elemen yang tidak ada pada set??\n",
        "\n",
        "nama_teman_set.remove('Tina')\n",
        "print(nama_teman_set)"
      ]
    },
    {
      "cell_type": "code",
      "execution_count": 87,
      "metadata": {
        "id": "2Rhif0mLCyWQ",
        "colab": {
          "base_uri": "https://localhost:8080/"
        },
        "outputId": "45ecd50d-a09d-447e-eb71-400aee16d4f4"
      },
      "outputs": [
        {
          "output_type": "stream",
          "name": "stdout",
          "text": [
            "{'Beni', 'Ani', 'Cinta', 'Amir', 'Dimas', 'Edi'}\n"
          ]
        }
      ],
      "source": [
        "# Men-discard 'Firman' dari set\n",
        "\n",
        "nama_teman_set.discard('Firman')\n",
        "\n",
        "print(nama_teman_set)"
      ]
    },
    {
      "cell_type": "code",
      "execution_count": 88,
      "metadata": {
        "id": "Aw4neUI5HU5_",
        "colab": {
          "base_uri": "https://localhost:8080/"
        },
        "outputId": "80600f73-1637-48c3-8bb0-2116615d19e4"
      },
      "outputs": [
        {
          "output_type": "stream",
          "name": "stdout",
          "text": [
            "{'Beni', 'Ani', 'Cinta', 'Amir', 'Dimas', 'Edi'}\n"
          ]
        }
      ],
      "source": [
        "# Men-discard elemen yang tidak ada pada set\n",
        "\n",
        "nama_teman_set.discard('Paimin')\n",
        "print(nama_teman_set)"
      ]
    },
    {
      "cell_type": "markdown",
      "metadata": {
        "id": "Q59wcpT2IrxT"
      },
      "source": [
        "### *Common Sequence Operators*\n",
        "\n",
        "Karena perbedaan karakteristik elemen pada `set`, maka tidak seluruh *common sequence operators* dapat dikenakan. Berikut ini adalah beberapa operators yang dapat dikenakan terhadap sebuah `set`:"
      ]
    },
    {
      "cell_type": "code",
      "execution_count": 90,
      "metadata": {
        "id": "Pww11NJrO7pk",
        "colab": {
          "base_uri": "https://localhost:8080/"
        },
        "outputId": "8ecd4d3f-a9bf-4935-ed50-e5efc2771746"
      },
      "outputs": [
        {
          "output_type": "stream",
          "name": "stdout",
          "text": [
            "Jumlah elemen pada nama_teman_set: 6 elemen\n"
          ]
        }
      ],
      "source": [
        "# Menampilkan jumlah elemen pada nama_teman_set\n",
        "print(f\"Jumlah elemen pada nama_teman_set: {len(nama_teman_set)} elemen\")"
      ]
    },
    {
      "cell_type": "code",
      "execution_count": 89,
      "metadata": {
        "id": "omK8DzYOOtJg",
        "colab": {
          "base_uri": "https://localhost:8080/",
          "height": 36
        },
        "outputId": "1f576121-2056-45ce-e9c7-0ef756bb6765"
      },
      "outputs": [
        {
          "output_type": "execute_result",
          "data": {
            "text/plain": [
              "'Edi'"
            ],
            "application/vnd.google.colaboratory.intrinsic+json": {
              "type": "string"
            }
          },
          "metadata": {},
          "execution_count": 89
        }
      ],
      "source": [
        "# Mencari nilai max\n",
        "max(nama_teman_set)"
      ]
    },
    {
      "cell_type": "code",
      "execution_count": 91,
      "metadata": {
        "id": "j9APrqioOtJg",
        "colab": {
          "base_uri": "https://localhost:8080/",
          "height": 36
        },
        "outputId": "b91ca509-35c0-4b62-d7cc-7540a8cb0943"
      },
      "outputs": [
        {
          "output_type": "execute_result",
          "data": {
            "text/plain": [
              "'Amir'"
            ],
            "application/vnd.google.colaboratory.intrinsic+json": {
              "type": "string"
            }
          },
          "metadata": {},
          "execution_count": 91
        }
      ],
      "source": [
        "# Mencari nilai min\n",
        "min(nama_teman_set)"
      ]
    },
    {
      "cell_type": "code",
      "execution_count": 92,
      "metadata": {
        "id": "2_wDacRGOtJg",
        "colab": {
          "base_uri": "https://localhost:8080/"
        },
        "outputId": "2e561de7-5f4b-463f-88bf-559f7d0313c3"
      },
      "outputs": [
        {
          "output_type": "execute_result",
          "data": {
            "text/plain": [
              "True"
            ]
          },
          "metadata": {},
          "execution_count": 92
        }
      ],
      "source": [
        "# Melakukan pengecekan keberadaan 'Ani' pada nama_teman_set\n",
        "'Ani' in nama_teman_set"
      ]
    },
    {
      "cell_type": "code",
      "execution_count": 93,
      "metadata": {
        "id": "YzLj800SOtJg",
        "colab": {
          "base_uri": "https://localhost:8080/"
        },
        "outputId": "df443f2e-d646-4bca-c860-8684612022fa"
      },
      "outputs": [
        {
          "output_type": "execute_result",
          "data": {
            "text/plain": [
              "False"
            ]
          },
          "metadata": {},
          "execution_count": 93
        }
      ],
      "source": [
        "# Melakukan pengecekan ketidak-adaan 'Ani' pada nama_teman_set\n",
        "'Ani' not in nama_teman_set"
      ]
    },
    {
      "cell_type": "markdown",
      "source": [
        "### `Set` Operations & Methods"
      ],
      "metadata": {
        "id": "FWR0u2qqRPlU"
      }
    },
    {
      "cell_type": "code",
      "execution_count": 94,
      "metadata": {
        "id": "l8ALKKIfDTLH",
        "colab": {
          "base_uri": "https://localhost:8080/"
        },
        "outputId": "3f728b4e-742c-4289-cb86-4922bbecaeb9"
      },
      "outputs": [
        {
          "output_type": "stream",
          "name": "stdout",
          "text": [
            "Union dari nama_teman_set & teman_lama_set: {'Beni', 'Rhoma', 'Ani', 'Ridho', 'Soneta', 'Amir', 'Cinta', 'Dimas', 'Edi'}\n"
          ]
        }
      ],
      "source": [
        "# Menggabungkan dua buah set dengan method 'union()'\n",
        "\n",
        "print(f\"Union dari nama_teman_set & teman_lama_set: {nama_teman_set.union(teman_lama_set)}\")"
      ]
    },
    {
      "cell_type": "code",
      "execution_count": 95,
      "metadata": {
        "id": "qTdD3pxHS705",
        "colab": {
          "base_uri": "https://localhost:8080/"
        },
        "outputId": "6588b7e0-74f9-4182-f155-cb451ab22aa9"
      },
      "outputs": [
        {
          "output_type": "stream",
          "name": "stdout",
          "text": [
            "Union dari nama_teman_set & teman_lama_set: {'Beni', 'Rhoma', 'Ani', 'Ridho', 'Soneta', 'Amir', 'Cinta', 'Dimas', 'Edi'}\n"
          ]
        }
      ],
      "source": [
        "# Menggabungkan dua buah set dengan operator '|'\n",
        "\n",
        "print(f\"Union dari nama_teman_set & teman_lama_set: {nama_teman_set | teman_lama_set}\")"
      ]
    },
    {
      "cell_type": "code",
      "execution_count": 99,
      "metadata": {
        "id": "ugqbj_qDC_gL",
        "colab": {
          "base_uri": "https://localhost:8080/"
        },
        "outputId": "b34cb819-dcc9-401c-8684-f09ad998d87f"
      },
      "outputs": [
        {
          "output_type": "stream",
          "name": "stdout",
          "text": [
            "Elemen nama_teman_set yang tidak ada pada teman_lama_set: {'Beni', 'Cinta', 'Amir', 'Dimas', 'Edi'}\n"
          ]
        }
      ],
      "source": [
        "# Mencari elemen yang berbeda pada dua buah set dengan method 'difference()'\n",
        "\n",
        "print(f\"Elemen nama_teman_set yang tidak ada pada teman_lama_set: {nama_teman_set.difference(teman_lama_set)}\")"
      ]
    },
    {
      "cell_type": "code",
      "execution_count": 98,
      "metadata": {
        "id": "bxScuT_oTIkq",
        "colab": {
          "base_uri": "https://localhost:8080/"
        },
        "outputId": "176bdeab-0ea5-416a-94c2-a35314546f95"
      },
      "outputs": [
        {
          "output_type": "stream",
          "name": "stdout",
          "text": [
            "Elemen nama_teman_set yang tidak ada pada teman_lama_set: {'Beni', 'Cinta', 'Amir', 'Dimas', 'Edi'}\n"
          ]
        }
      ],
      "source": [
        "# Mencari elemen yang berbeda pada dua buah set dengan operator '-'\n",
        "\n",
        "print(f\"Elemen nama_teman_set yang tidak ada pada teman_lama_set: {nama_teman_set - teman_lama_set}\")"
      ]
    },
    {
      "cell_type": "code",
      "execution_count": 97,
      "metadata": {
        "id": "dJ1lYuGHDI3G",
        "colab": {
          "base_uri": "https://localhost:8080/"
        },
        "outputId": "f886d47a-168f-4372-f69f-8c0c1d1f9bf0"
      },
      "outputs": [
        {
          "output_type": "stream",
          "name": "stdout",
          "text": [
            "Elemen nama_teman_set yang beririsan dengan teman_lama_set: {'Ani'}\n"
          ]
        }
      ],
      "source": [
        "# Mencari elemen yang beririsan pada dua buah set dengan method 'intersection()'\n",
        "\n",
        "print(f\"Elemen nama_teman_set yang beririsan dengan teman_lama_set: {nama_teman_set.intersection(teman_lama_set)}\")"
      ]
    },
    {
      "cell_type": "code",
      "source": [
        "# Mencari elemen yang beririsan pada dua buah set dengan operator '&'\n",
        "\n",
        "print(f\"Elemen nama_teman_set yang beririsan dengan teman_lama_set: {nama_teman_set & teman_lama_set}\")"
      ],
      "metadata": {
        "id": "oqwB3CW9TUnW",
        "colab": {
          "base_uri": "https://localhost:8080/"
        },
        "outputId": "2779b108-3783-475e-d0e4-74ba68560e64"
      },
      "execution_count": 96,
      "outputs": [
        {
          "output_type": "stream",
          "name": "stdout",
          "text": [
            "Elemen nama_teman_set yang beririsan dengan teman_lama_set: {'Ani'}\n"
          ]
        }
      ]
    },
    {
      "cell_type": "markdown",
      "source": [
        "___\n",
        "### `SET` EXERCISE\n",
        "1. Buat sebuah object `pd.Series` berisi setiap elemen pada kolom `State` pada `df_sales`;\n",
        "2. Cek Tipe object yang dihasilkan proses di atas;\n",
        "3. Cek jumlah elemen pada object tersebut;\n",
        "4. Ubah object tersebut menjadi sebuah `set`;\n",
        "5. Cek jumlah elemen pada `set` tersebut;\n",
        "6. Cek isi dari `set` tersebut;\n",
        "7. Cobalah untuk melihat elemen urutan pertama dari `set` tersebut;\n",
        "8. Tampilkan ke layar setiap elemen pada `set` tersebut menggunakan loop.\n"
      ],
      "metadata": {
        "id": "z2i_C8Z2VYMY"
      }
    },
    {
      "cell_type": "code",
      "source": [
        "# Buat series assign ke variabel `States_Recorded`\n",
        "States_Recorded = df_sales['State']"
      ],
      "metadata": {
        "id": "VwLrE5_cVcs7"
      },
      "execution_count": 100,
      "outputs": []
    },
    {
      "cell_type": "code",
      "source": [
        "# Cek Tipe data\n",
        "type(States_Recorded)"
      ],
      "metadata": {
        "id": "BD0T6cMCcxRc",
        "colab": {
          "base_uri": "https://localhost:8080/",
          "height": 203
        },
        "outputId": "b20e3612-88e6-431f-c787-bc99611c6cb8"
      },
      "execution_count": 101,
      "outputs": [
        {
          "output_type": "execute_result",
          "data": {
            "text/plain": [
              "pandas.core.series.Series"
            ],
            "text/html": [
              "<div style=\"max-width:800px; border: 1px solid var(--colab-border-color);\"><style>\n",
              "      pre.function-repr-contents {\n",
              "        overflow-x: auto;\n",
              "        padding: 8px 12px;\n",
              "        max-height: 500px;\n",
              "      }\n",
              "\n",
              "      pre.function-repr-contents.function-repr-contents-collapsed {\n",
              "        cursor: pointer;\n",
              "        max-height: 100px;\n",
              "      }\n",
              "    </style>\n",
              "    <pre style=\"white-space: initial; background:\n",
              "         var(--colab-secondary-surface-color); padding: 8px 12px;\n",
              "         border-bottom: 1px solid var(--colab-border-color);\"><b>pandas.core.series.Series</b><br/>def __init__(data=None, index=None, dtype: Dtype | None=None, name=None, copy: bool | None=None, fastpath: bool | lib.NoDefault=lib.no_default) -&gt; None</pre><pre class=\"function-repr-contents function-repr-contents-collapsed\" style=\"\"><a class=\"filepath\" style=\"display:none\" href=\"#\">/usr/local/lib/python3.10/dist-packages/pandas/core/series.py</a>One-dimensional ndarray with axis labels (including time series).\n",
              "\n",
              "Labels need not be unique but must be a hashable type. The object\n",
              "supports both integer- and label-based indexing and provides a host of\n",
              "methods for performing operations involving the index. Statistical\n",
              "methods from ndarray have been overridden to automatically exclude\n",
              "missing data (currently represented as NaN).\n",
              "\n",
              "Operations between Series (+, -, /, \\*, \\*\\*) align values based on their\n",
              "associated index values-- they need not be the same length. The result\n",
              "index will be the sorted union of the two indexes.\n",
              "\n",
              "Parameters\n",
              "----------\n",
              "data : array-like, Iterable, dict, or scalar value\n",
              "    Contains data stored in Series. If data is a dict, argument order is\n",
              "    maintained.\n",
              "index : array-like or Index (1d)\n",
              "    Values must be hashable and have the same length as `data`.\n",
              "    Non-unique index values are allowed. Will default to\n",
              "    RangeIndex (0, 1, 2, ..., n) if not provided. If data is dict-like\n",
              "    and index is None, then the keys in the data are used as the index. If the\n",
              "    index is not None, the resulting Series is reindexed with the index values.\n",
              "dtype : str, numpy.dtype, or ExtensionDtype, optional\n",
              "    Data type for the output Series. If not specified, this will be\n",
              "    inferred from `data`.\n",
              "    See the :ref:`user guide &lt;basics.dtypes&gt;` for more usages.\n",
              "name : Hashable, default None\n",
              "    The name to give to the Series.\n",
              "copy : bool, default False\n",
              "    Copy input data. Only affects Series or 1d ndarray input. See examples.\n",
              "\n",
              "Notes\n",
              "-----\n",
              "Please reference the :ref:`User Guide &lt;basics.series&gt;` for more information.\n",
              "\n",
              "Examples\n",
              "--------\n",
              "Constructing Series from a dictionary with an Index specified\n",
              "\n",
              "&gt;&gt;&gt; d = {&#x27;a&#x27;: 1, &#x27;b&#x27;: 2, &#x27;c&#x27;: 3}\n",
              "&gt;&gt;&gt; ser = pd.Series(data=d, index=[&#x27;a&#x27;, &#x27;b&#x27;, &#x27;c&#x27;])\n",
              "&gt;&gt;&gt; ser\n",
              "a   1\n",
              "b   2\n",
              "c   3\n",
              "dtype: int64\n",
              "\n",
              "The keys of the dictionary match with the Index values, hence the Index\n",
              "values have no effect.\n",
              "\n",
              "&gt;&gt;&gt; d = {&#x27;a&#x27;: 1, &#x27;b&#x27;: 2, &#x27;c&#x27;: 3}\n",
              "&gt;&gt;&gt; ser = pd.Series(data=d, index=[&#x27;x&#x27;, &#x27;y&#x27;, &#x27;z&#x27;])\n",
              "&gt;&gt;&gt; ser\n",
              "x   NaN\n",
              "y   NaN\n",
              "z   NaN\n",
              "dtype: float64\n",
              "\n",
              "Note that the Index is first build with the keys from the dictionary.\n",
              "After this the Series is reindexed with the given Index values, hence we\n",
              "get all NaN as a result.\n",
              "\n",
              "Constructing Series from a list with `copy=False`.\n",
              "\n",
              "&gt;&gt;&gt; r = [1, 2]\n",
              "&gt;&gt;&gt; ser = pd.Series(r, copy=False)\n",
              "&gt;&gt;&gt; ser.iloc[0] = 999\n",
              "&gt;&gt;&gt; r\n",
              "[1, 2]\n",
              "&gt;&gt;&gt; ser\n",
              "0    999\n",
              "1      2\n",
              "dtype: int64\n",
              "\n",
              "Due to input data type the Series has a `copy` of\n",
              "the original data even though `copy=False`, so\n",
              "the data is unchanged.\n",
              "\n",
              "Constructing Series from a 1d ndarray with `copy=False`.\n",
              "\n",
              "&gt;&gt;&gt; r = np.array([1, 2])\n",
              "&gt;&gt;&gt; ser = pd.Series(r, copy=False)\n",
              "&gt;&gt;&gt; ser.iloc[0] = 999\n",
              "&gt;&gt;&gt; r\n",
              "array([999,   2])\n",
              "&gt;&gt;&gt; ser\n",
              "0    999\n",
              "1      2\n",
              "dtype: int64\n",
              "\n",
              "Due to input data type the Series has a `view` on\n",
              "the original data, so\n",
              "the data is changed as well.</pre>\n",
              "      <script>\n",
              "      if (google.colab.kernel.accessAllowed && google.colab.files && google.colab.files.view) {\n",
              "        for (const element of document.querySelectorAll('.filepath')) {\n",
              "          element.style.display = 'block'\n",
              "          element.onclick = (event) => {\n",
              "            event.preventDefault();\n",
              "            event.stopPropagation();\n",
              "            google.colab.files.view(element.textContent, 263);\n",
              "          };\n",
              "        }\n",
              "      }\n",
              "      for (const element of document.querySelectorAll('.function-repr-contents')) {\n",
              "        element.onclick = (event) => {\n",
              "          event.preventDefault();\n",
              "          event.stopPropagation();\n",
              "          element.classList.toggle('function-repr-contents-collapsed');\n",
              "        };\n",
              "      }\n",
              "      </script>\n",
              "      </div>"
            ]
          },
          "metadata": {},
          "execution_count": 101
        }
      ]
    },
    {
      "cell_type": "code",
      "source": [
        "# Check panjang dari series\n",
        "len(States_Recorded)"
      ],
      "metadata": {
        "id": "eAuKRoZbb5aI",
        "colab": {
          "base_uri": "https://localhost:8080/"
        },
        "outputId": "8de8140f-9d09-4423-8e80-767b4e1d2714"
      },
      "execution_count": 102,
      "outputs": [
        {
          "output_type": "execute_result",
          "data": {
            "text/plain": [
              "9994"
            ]
          },
          "metadata": {},
          "execution_count": 102
        }
      ]
    },
    {
      "cell_type": "code",
      "source": [
        "# Buat sebuah set dari `States_Recorded` assign ke variabel `States_Set`\n",
        "States_Set = set(States_Recorded)"
      ],
      "metadata": {
        "id": "6eq3FfBDZIrx"
      },
      "execution_count": 103,
      "outputs": []
    },
    {
      "cell_type": "code",
      "source": [
        "# Cek panjang dari set\n",
        "len(States_Set)"
      ],
      "metadata": {
        "id": "OVMmvwVBj545",
        "colab": {
          "base_uri": "https://localhost:8080/"
        },
        "outputId": "ef875e84-ddf3-4f6b-9135-09f46ba9a7f6"
      },
      "execution_count": 104,
      "outputs": [
        {
          "output_type": "execute_result",
          "data": {
            "text/plain": [
              "49"
            ]
          },
          "metadata": {},
          "execution_count": 104
        }
      ]
    },
    {
      "cell_type": "code",
      "source": [
        "# Lihat isi dari Set\n",
        "States_Set"
      ],
      "metadata": {
        "id": "hcVX_D8NjfA5",
        "colab": {
          "base_uri": "https://localhost:8080/"
        },
        "outputId": "fdfc9506-70c0-4cc0-b73c-7962137a9677"
      },
      "execution_count": 105,
      "outputs": [
        {
          "output_type": "execute_result",
          "data": {
            "text/plain": [
              "{'Alabama',\n",
              " 'Arizona',\n",
              " 'Arkansas',\n",
              " 'California',\n",
              " 'Colorado',\n",
              " 'Connecticut',\n",
              " 'Delaware',\n",
              " 'District of Columbia',\n",
              " 'Florida',\n",
              " 'Georgia',\n",
              " 'Idaho',\n",
              " 'Illinois',\n",
              " 'Indiana',\n",
              " 'Iowa',\n",
              " 'Kansas',\n",
              " 'Kentucky',\n",
              " 'Louisiana',\n",
              " 'Maine',\n",
              " 'Maryland',\n",
              " 'Massachusetts',\n",
              " 'Michigan',\n",
              " 'Minnesota',\n",
              " 'Mississippi',\n",
              " 'Missouri',\n",
              " 'Montana',\n",
              " 'Nebraska',\n",
              " 'Nevada',\n",
              " 'New Hampshire',\n",
              " 'New Jersey',\n",
              " 'New Mexico',\n",
              " 'New York',\n",
              " 'North Carolina',\n",
              " 'North Dakota',\n",
              " 'Ohio',\n",
              " 'Oklahoma',\n",
              " 'Oregon',\n",
              " 'Pennsylvania',\n",
              " 'Rhode Island',\n",
              " 'South Carolina',\n",
              " 'South Dakota',\n",
              " 'Tennessee',\n",
              " 'Texas',\n",
              " 'Utah',\n",
              " 'Vermont',\n",
              " 'Virginia',\n",
              " 'Washington',\n",
              " 'West Virginia',\n",
              " 'Wisconsin',\n",
              " 'Wyoming'}"
            ]
          },
          "metadata": {},
          "execution_count": 105
        }
      ]
    },
    {
      "cell_type": "code",
      "source": [
        "# Cobalah untuk melihat elemen pertama\n",
        "Status_Set[0] # Set tidak bisa menggunakan indexing"
      ],
      "metadata": {
        "id": "7hZDwGVrkg3M"
      },
      "execution_count": null,
      "outputs": []
    },
    {
      "cell_type": "code",
      "source": [
        "# Print setiap elemen pada States_Set menggunakan for loop\n",
        "for state in States_Set:\n",
        "  print(state)"
      ],
      "metadata": {
        "id": "BRSREdmlk2tM",
        "colab": {
          "base_uri": "https://localhost:8080/"
        },
        "outputId": "950140b9-fe6b-4375-e880-ee4693d19683"
      },
      "execution_count": 108,
      "outputs": [
        {
          "output_type": "stream",
          "name": "stdout",
          "text": [
            "Idaho\n",
            "Colorado\n",
            "Massachusetts\n",
            "Arkansas\n",
            "Alabama\n",
            "North Dakota\n",
            "District of Columbia\n",
            "Oregon\n",
            "Georgia\n",
            "Arizona\n",
            "Washington\n",
            "Tennessee\n",
            "Oklahoma\n",
            "Louisiana\n",
            "Wyoming\n",
            "Wisconsin\n",
            "Mississippi\n",
            "Delaware\n",
            "Missouri\n",
            "New Hampshire\n",
            "North Carolina\n",
            "New Jersey\n",
            "Texas\n",
            "Kentucky\n",
            "Virginia\n",
            "Rhode Island\n",
            "New York\n",
            "Michigan\n",
            "Utah\n",
            "Iowa\n",
            "Connecticut\n",
            "Pennsylvania\n",
            "Ohio\n",
            "Indiana\n",
            "New Mexico\n",
            "Nebraska\n",
            "South Dakota\n",
            "South Carolina\n",
            "Florida\n",
            "Vermont\n",
            "Montana\n",
            "Maine\n",
            "Nevada\n",
            "Maryland\n",
            "Kansas\n",
            "Illinois\n",
            "West Virginia\n",
            "California\n",
            "Minnesota\n"
          ]
        }
      ]
    },
    {
      "cell_type": "markdown",
      "metadata": {
        "id": "TXlh9tERrM-H"
      },
      "source": [
        "---\n",
        "## `Dictionary`\n",
        "> `Dictionary` adalah struktur data dalam Python yang menyimpan data dalam bentuk pasangan *key*--*value*, merupakan jenis data yang sangat berguna saat kita ingin mengasosiasikan atau melakukan pemetaan data.\n",
        "\n",
        "Dictionary memiliki karakteristik sebagai berikut:\n",
        "- ***Unordered***: Urutan pasangan `key-value` dalam `dictionary` tidak dijamin konsisten dan bisa berubah seiring waktu.\n",
        "- ***Mutable***: Dimungkinkan untuk mengubah, menambah, atau menghapus pasangan `key-value` setelah `dictionary` dibuat.\n",
        "- ***Indexed by Keys***: Akses elemen `dictionary` dilakukan menggunakan `key`, bukan posisi index seperti pada `list`.\n",
        "- ***Unique Keys***: Setiap *key* dalam `dictionary` harus unik. Jika terdapat `value` dengan `key` terduplikat, maka value terakhir yang ditambahkan akan otomatis menggantikan `value` sebelumnya.\n",
        "- ***Heterogeneous Values***: `value` yang disimpan dalam `dictionary` dapat berupa objek dengan tipe data apa pun, termasuk `list`, `tuple`, `set`, atau bahkan `dictionary` lainnya."
      ]
    },
    {
      "cell_type": "markdown",
      "source": [
        "### `Dictionary` Construction\n",
        "Beberapa cara yang lazim digunakan untuk menyusun `dictionary`:\n",
        "1. `type literals`:\n",
        "```python\n",
        "nama_dictionary = {} # Membuat dictionary kosong\n",
        "nama_dictionary = {\n",
        "  'key_1': 'value_1',\n",
        "  'key_2': 'value_2',\n",
        "  'key_n': 'value_n'\n",
        "}\n",
        "```\n",
        "2. `dict constructor`:\n",
        "```python\n",
        "nama_dictionary = dict() # Membuat dictionary kosong\n",
        "nama_dictionary = dict(\n",
        "   key_1='value_1',\n",
        "   key_2='value_2',\n",
        "   key_n='value_n'\n",
        ")\n",
        "```\n",
        "3. `zip method`:\n",
        "```python\n",
        "keys = ['key1', 'key2', 'key3']\n",
        "values = ['value1', 'value2', 'value3']\n",
        "nama_dict = dict(zip(keys, values))\n",
        "```"
      ],
      "metadata": {
        "id": "_QI9MQ0rgH15"
      }
    },
    {
      "cell_type": "code",
      "execution_count": 109,
      "metadata": {
        "id": "YIXprrdEkAkX",
        "colab": {
          "base_uri": "https://localhost:8080/"
        },
        "outputId": "80571945-cb24-45c0-9c11-00b64ff0a41d"
      },
      "outputs": [
        {
          "output_type": "stream",
          "name": "stdout",
          "text": [
            "{'Nama': 'Dicky', 'Usia': 30, 'Role': 'Data Analyst', 'Dept': 'Marketing'}\n"
          ]
        }
      ],
      "source": [
        "# Membuat dictionary dengan literals\n",
        "\n",
        "pegawai_1 = {\n",
        "\t'Nama': 'Dicky',\n",
        "\t'Usia': 30,\n",
        "\t'Role': 'Data Analyst',\n",
        "\t'Dept': 'Marketing'\n",
        "}\n",
        "print(pegawai_1)"
      ]
    },
    {
      "cell_type": "code",
      "source": [
        "# Membuat dictionary dengan constructor\n",
        "\n",
        "pegawai_2 = dict(\n",
        "    Nama='Dika',\n",
        "    Usia=25,\n",
        "    Role='Data Analyst',\n",
        "    Dept='Marketing'\n",
        ")\n",
        "print(pegawai_2)"
      ],
      "metadata": {
        "id": "mpuHsM4OhuOE",
        "colab": {
          "base_uri": "https://localhost:8080/"
        },
        "outputId": "832c2596-de5c-4297-f338-a15ecbd2715c"
      },
      "execution_count": 110,
      "outputs": [
        {
          "output_type": "stream",
          "name": "stdout",
          "text": [
            "{'Nama': 'Dika', 'Usia': 25, 'Role': 'Data Analyst', 'Dept': 'Marketing'}\n"
          ]
        }
      ]
    },
    {
      "cell_type": "markdown",
      "source": [
        "### Accessing elements of `dictionary`"
      ],
      "metadata": {
        "id": "us0Ck0k9kBnn"
      }
    },
    {
      "cell_type": "code",
      "execution_count": null,
      "metadata": {
        "id": "Li8_-BDEs7WW"
      },
      "outputs": [],
      "source": [
        "# Memanggil value dari dictionary menggunakan key\n",
        "\n",
        "print(pegawai_1['Nama'])\n",
        "print(pegawai_1['Gaji']) # Memanggil key yang tidak terdapat pada dictionary akan menyebabkan error"
      ]
    },
    {
      "cell_type": "code",
      "source": [
        "# Memanggil value dari dictionary menggunakan method 'get()'\n",
        "\n",
        "print(pegawai_1.get('Nama'))\n",
        "print(pegawai_1.get('Gaji')) # Memanggil key yang tidak ada, tidak menyebabkan error\n",
        "print(pegawai_1.get('Gaji', 'Key tersebut tidak ada!'))"
      ],
      "metadata": {
        "id": "k-I6YksTkgB0"
      },
      "execution_count": null,
      "outputs": []
    },
    {
      "cell_type": "markdown",
      "source": [
        "### Growing and Shrinking `dictionary`"
      ],
      "metadata": {
        "id": "_bQhl8IhlmUC"
      }
    },
    {
      "cell_type": "code",
      "execution_count": 112,
      "metadata": {
        "id": "6iyvfORls9z0",
        "colab": {
          "base_uri": "https://localhost:8080/"
        },
        "outputId": "e6cb55c0-818b-4b49-b2bf-171571d7f253"
      },
      "outputs": [
        {
          "output_type": "stream",
          "name": "stdout",
          "text": [
            "{'Nama': 'Ricky', 'Usia': 30, 'Role': 'Data Analyst', 'Dept': 'Marketing'}\n"
          ]
        }
      ],
      "source": [
        "# Mengganti nilai pada dictionary\n",
        "\n",
        "pegawai_1['Nama'] = 'Ricky'\n",
        "\n",
        "print(pegawai_1)"
      ]
    },
    {
      "cell_type": "code",
      "execution_count": 113,
      "metadata": {
        "id": "btXvZzcctAe_",
        "colab": {
          "base_uri": "https://localhost:8080/"
        },
        "outputId": "eb75dcff-c5f9-45fa-ae7e-25730733fc5c"
      },
      "outputs": [
        {
          "output_type": "stream",
          "name": "stdout",
          "text": [
            "{'Nama': 'Ricky', 'Usia': 30, 'Role': 'Data Analyst', 'Dept': 'Marketing', 'Gaji': 10000000}\n",
            "{'Nama': 'Dika', 'Usia': 25, 'Role': 'Data Analyst', 'Dept': 'Marketing', 'Gaji': 9500000}\n"
          ]
        }
      ],
      "source": [
        "# Menambahkan key baru beserta valuenya\n",
        "\n",
        "pegawai_1['Gaji'] = 10_000_000\n",
        "pegawai_2['Gaji'] = 9_500_000\n",
        "\n",
        "print(pegawai_1)\n",
        "print(pegawai_2)"
      ]
    },
    {
      "cell_type": "code",
      "execution_count": 114,
      "metadata": {
        "id": "j_7U3L22tBTR",
        "colab": {
          "base_uri": "https://localhost:8080/"
        },
        "outputId": "a27427b1-8db7-4b4f-a16d-fdefb4e01d45"
      },
      "outputs": [
        {
          "output_type": "stream",
          "name": "stdout",
          "text": [
            "{'Nama': 'Ricky', 'Usia': 30, 'Role': 'Data Analyst', 'Dept': 'Marketing'}\n",
            "{'Nama': 'Dika', 'Usia': 25, 'Role': 'Data Analyst', 'Dept': 'Marketing'}\n"
          ]
        }
      ],
      "source": [
        "# Menghapus key beserta valuenya\n",
        "\n",
        "del pegawai_1['Gaji']\n",
        "del pegawai_2['Gaji']\n",
        "\n",
        "print(pegawai_1)\n",
        "print(pegawai_2)"
      ]
    },
    {
      "cell_type": "markdown",
      "source": [
        "### `Dictionary` methods"
      ],
      "metadata": {
        "id": "f8XizLr5l0pf"
      }
    },
    {
      "cell_type": "code",
      "execution_count": 115,
      "metadata": {
        "id": "onRJzBXktK64",
        "colab": {
          "base_uri": "https://localhost:8080/"
        },
        "outputId": "88eafcf0-8150-43ef-948d-86ce22e5eeba"
      },
      "outputs": [
        {
          "output_type": "execute_result",
          "data": {
            "text/plain": [
              "dict_keys(['Nama', 'Usia', 'Role', 'Dept'])"
            ]
          },
          "metadata": {},
          "execution_count": 115
        }
      ],
      "source": [
        "# Menampilkan daftar key dari dictionary\n",
        "\n",
        "pegawai_1.keys()"
      ]
    },
    {
      "cell_type": "code",
      "execution_count": 116,
      "metadata": {
        "id": "YCIxOTZMuLPk",
        "colab": {
          "base_uri": "https://localhost:8080/"
        },
        "outputId": "240df873-d790-41e4-b2f1-46d9e0575a8a"
      },
      "outputs": [
        {
          "output_type": "execute_result",
          "data": {
            "text/plain": [
              "dict_values(['Ricky', 30, 'Data Analyst', 'Marketing'])"
            ]
          },
          "metadata": {},
          "execution_count": 116
        }
      ],
      "source": [
        "# Menampilkan daftar values\n",
        "\n",
        "pegawai_1.values()"
      ]
    },
    {
      "cell_type": "code",
      "execution_count": 117,
      "metadata": {
        "id": "7wvf6JiuuMep",
        "colab": {
          "base_uri": "https://localhost:8080/"
        },
        "outputId": "ec1bb481-7dba-4032-b990-46422c6ee89a"
      },
      "outputs": [
        {
          "output_type": "execute_result",
          "data": {
            "text/plain": [
              "dict_items([('Nama', 'Ricky'), ('Usia', 30), ('Role', 'Data Analyst'), ('Dept', 'Marketing')])"
            ]
          },
          "metadata": {},
          "execution_count": 117
        }
      ],
      "source": [
        "# Menampilkan pasangan key value dalam bentuk list of tuples\n",
        "\n",
        "pegawai_1.items()"
      ]
    },
    {
      "cell_type": "code",
      "execution_count": 118,
      "metadata": {
        "id": "-_fzyG_XuNoa",
        "colab": {
          "base_uri": "https://localhost:8080/"
        },
        "outputId": "c9bc748c-a615-4cf6-9483-6b2a7fec8e0e"
      },
      "outputs": [
        {
          "output_type": "stream",
          "name": "stdout",
          "text": [
            "{'Nama': 'Ricky', 'Usia': 30, 'Role': 'Data Analyst', 'Dept': 'Marketing'}\n"
          ]
        }
      ],
      "source": [
        "# menyalin dictionary\n",
        "\n",
        "copy_of_pegawai_1 = pegawai_1.copy()\n",
        "print(copy_of_pegawai_1)"
      ]
    },
    {
      "cell_type": "code",
      "execution_count": 119,
      "metadata": {
        "id": "d0Ozu2fDOfOc",
        "colab": {
          "base_uri": "https://localhost:8080/"
        },
        "outputId": "b6a3c0a9-ac92-481d-c726-7c414131511c"
      },
      "outputs": [
        {
          "output_type": "stream",
          "name": "stdout",
          "text": [
            "{}\n"
          ]
        }
      ],
      "source": [
        "# menghapus seluruh isi dictionary\n",
        "\n",
        "copy_of_pegawai_1.clear()\n",
        "print(copy_of_pegawai_1)"
      ]
    },
    {
      "cell_type": "code",
      "source": [
        "# Menampilkan data yang disimpan pada sebuah dictionary\n",
        "pegawai_1['Nama']"
      ],
      "metadata": {
        "colab": {
          "base_uri": "https://localhost:8080/",
          "height": 36
        },
        "id": "dL0b1-grvf9V",
        "outputId": "7f2571b8-21d1-4a27-9dff-db1efad86ba2"
      },
      "execution_count": 121,
      "outputs": [
        {
          "output_type": "execute_result",
          "data": {
            "text/plain": [
              "'Ricky'"
            ],
            "application/vnd.google.colaboratory.intrinsic+json": {
              "type": "string"
            }
          },
          "metadata": {},
          "execution_count": 121
        }
      ]
    },
    {
      "cell_type": "code",
      "source": [
        "# Jika key yang diinput tidak ditemukan pada dictionary\n",
        "pegawai_1['Alamat']"
      ],
      "metadata": {
        "colab": {
          "base_uri": "https://localhost:8080/",
          "height": 158
        },
        "id": "qjF12u9bwBNg",
        "outputId": "1e5f3bc8-2d10-4b40-ec0b-d4c9182c1cfd"
      },
      "execution_count": null,
      "outputs": [
        {
          "output_type": "error",
          "ename": "KeyError",
          "evalue": "'Alamat'",
          "traceback": [
            "\u001b[0;31m---------------------------------------------------------------------------\u001b[0m",
            "\u001b[0;31mKeyError\u001b[0m                                  Traceback (most recent call last)",
            "\u001b[0;32m<ipython-input-51-61b4dc49ea2c>\u001b[0m in \u001b[0;36m<cell line: 2>\u001b[0;34m()\u001b[0m\n\u001b[1;32m      1\u001b[0m \u001b[0;31m# Jika key yang diinput tidak ditemukan pada dictionary\u001b[0m\u001b[0;34m\u001b[0m\u001b[0;34m\u001b[0m\u001b[0m\n\u001b[0;32m----> 2\u001b[0;31m \u001b[0mpegawai_1\u001b[0m\u001b[0;34m[\u001b[0m\u001b[0;34m'Alamat'\u001b[0m\u001b[0;34m]\u001b[0m\u001b[0;34m\u001b[0m\u001b[0;34m\u001b[0m\u001b[0m\n\u001b[0m",
            "\u001b[0;31mKeyError\u001b[0m: 'Alamat'"
          ]
        }
      ]
    },
    {
      "cell_type": "code",
      "source": [
        "# Agar tidak menghasilkan error saat pencarian data\n",
        "pegawai_1.get('Alamat')"
      ],
      "metadata": {
        "id": "3xIYCr_3wOIc"
      },
      "execution_count": 122,
      "outputs": []
    },
    {
      "cell_type": "code",
      "source": [
        "# Untuk memberikan keterangan \"Data yang dicari tidak ada dalam database!\"\n",
        "pegawai_1.get('Alamat', \"Data yang dicari tidak ada dalam database!\")"
      ],
      "metadata": {
        "colab": {
          "base_uri": "https://localhost:8080/",
          "height": 36
        },
        "id": "wuvU2rEywXRs",
        "outputId": "4ca6dd3c-2f17-4a0c-b6b8-905d532b899a"
      },
      "execution_count": 123,
      "outputs": [
        {
          "output_type": "execute_result",
          "data": {
            "text/plain": [
              "'Data yang dicari tidak ada dalam database!'"
            ],
            "application/vnd.google.colaboratory.intrinsic+json": {
              "type": "string"
            }
          },
          "metadata": {},
          "execution_count": 123
        }
      ]
    },
    {
      "cell_type": "markdown",
      "source": [
        "### `DICTIONARY` EXERCISE\n",
        "1. Buat sebuah `list` berisikan dua `dictionary` pegawai_1 dan pegawai_2, lalu *assign* ke variabel `list_pegawai`;\n",
        "2. Gunakan teknik `list comprehension` untuk mengambil hanya setiap *values* dari kedua pegawai pada `list_pegawai`;\n",
        "3. Gunakan teknik `list comprehension` untuk mengambil hanya data `Nama` dan `Usia` dari kedua pegawai pada `list_pegawai`;\n",
        "4. Gunakan teknik `list comprehension` untuk melakukan filtering data\n",
        " `Usia` pada `list_pegawai` yang memiliki value `Nama` == 'Dika';\n",
        "5. Gunakan teknis `list comprehension` untuk melakukan filtering data pegawai yang memiliki nilai gaji dibawah 10 juta."
      ],
      "metadata": {
        "id": "I1V_hmANmBTg"
      }
    },
    {
      "cell_type": "code",
      "source": [
        "# 1. Buat list_pegawai\n",
        "list_pegawai = [pegawai_1, pegawai_2]\n",
        "print(list_pegawai)"
      ],
      "metadata": {
        "id": "IjCnzfHXsyxV",
        "colab": {
          "base_uri": "https://localhost:8080/"
        },
        "outputId": "a9bf36d7-50d1-40dd-85a8-fa4f26226029"
      },
      "execution_count": 124,
      "outputs": [
        {
          "output_type": "stream",
          "name": "stdout",
          "text": [
            "[{'Nama': 'Ricky', 'Usia': 30, 'Role': 'Data Analyst', 'Dept': 'Marketing'}, {'Nama': 'Dika', 'Usia': 25, 'Role': 'Data Analyst', 'Dept': 'Marketing'}]\n"
          ]
        }
      ]
    },
    {
      "cell_type": "code",
      "source": [
        "# 2. Tampilkan hanya item values saja\n",
        "[data.values() for data in list_pegawai]"
      ],
      "metadata": {
        "id": "BZNNWswtxcL5",
        "colab": {
          "base_uri": "https://localhost:8080/"
        },
        "outputId": "09624f7a-de92-4ae5-fc88-f2832d8c853c"
      },
      "execution_count": 125,
      "outputs": [
        {
          "output_type": "execute_result",
          "data": {
            "text/plain": [
              "[dict_values(['Ricky', 30, 'Data Analyst', 'Marketing']),\n",
              " dict_values(['Dika', 25, 'Data Analyst', 'Marketing'])]"
            ]
          },
          "metadata": {},
          "execution_count": 125
        }
      ]
    },
    {
      "cell_type": "code",
      "source": [
        "# 3. Tampilkan data 'Nama' dan 'Usia' saja\n",
        "[[data['Nama'], data['Usia']] for data in list_pegawai]"
      ],
      "metadata": {
        "id": "M1u1jeLZv8kl",
        "colab": {
          "base_uri": "https://localhost:8080/"
        },
        "outputId": "ce2ab0bd-adb8-4935-800a-ffa31e88a3c8"
      },
      "execution_count": 127,
      "outputs": [
        {
          "output_type": "execute_result",
          "data": {
            "text/plain": [
              "[['Ricky', 30], ['Dika', 25]]"
            ]
          },
          "metadata": {},
          "execution_count": 127
        }
      ]
    },
    {
      "cell_type": "code",
      "source": [
        "# 4. Tampilkan hanya data 'Usia' dari pegawai bernama 'Dika'\n",
        "[data['Usia'] for data in list_pegawai if data['Nama']=='Dika']"
      ],
      "metadata": {
        "id": "mY7DUdJ9s-qw",
        "colab": {
          "base_uri": "https://localhost:8080/"
        },
        "outputId": "353eff6c-d05f-457e-9e74-d529b964f844"
      },
      "execution_count": 126,
      "outputs": [
        {
          "output_type": "execute_result",
          "data": {
            "text/plain": [
              "[25]"
            ]
          },
          "metadata": {},
          "execution_count": 126
        }
      ]
    },
    {
      "cell_type": "code",
      "source": [
        "# 5. Tampilkan data pegawai yang nilai 'Gaji' di bawah 10 juta\n",
        "[data for data in list_pegawai if data['Gaji']<10_000_000] # akan menghasilkan error dikarenakan tidak ada data 'Gaji'"
      ],
      "metadata": {
        "id": "Sul4s2AOzEmP"
      },
      "execution_count": null,
      "outputs": []
    },
    {
      "cell_type": "markdown",
      "source": [
        "---\n",
        "#### 2. PENGENALAN DATAFRAME CONSTRUCTOR\n",
        "\n",
        "Seperti telah dicontohkan pada pertemuan ke-7 sebelumnya, kegiatan data analytics akan mengharuskan seorang data analyst untuk biasa bekerja dengan object `pd.DataFrame`. Seperti dicontohkan pada ilustrasi di pertemuan tersebut, bahwa data dari kegiatan survey dapat disimpan dalam berbagai object data fundamental python, seperti `list` dan `tuple`, dan di konversi menjadi object `pd.DataFrame` agar memudahkan proses pengolahan, dan analisis lebih lanjutnya.\n",
        "\n",
        "Pada exercise di bawah ini, akan diperkenalkan beberapa methods pada modul `pandas` yang umumnya dipergunakan untuk membangun sebuah dataframe, yaitu:\n",
        "1. `pd.DataFrame`; dan\n",
        "2. `pd.concat`.\n",
        "\n",
        "##### METHOD `pd.DataFrame`\n",
        "Method ini merupakan method yang cukup fleksibel, karena dapat dimanfaatkan untuk menkonversi data yang tersimpan di dalam berbagai jenis object python fundamental, atau pada sebuah object `pd.series`.\n",
        "\n",
        "Hal penting yang harus dipastikan dalam penggunaan method ini adalah:\n",
        "1. Setiap data yang akan dikonversi memiliki **jumlah elemen** yang sama;\n",
        "2. Setiap data yang akan dikonversi memiliki **penulisan index** yang seragam; dan\n",
        "3. Setiap data yang akan dikonversi tersimpan dalam **tipe object** (object fundamental python atau `pd.series`) yang seragam.\n",
        "\n",
        "Berikut ini dicontohkan cara penggunaannya yang disesuaikan dengan jenis object yang akan dikonversi."
      ],
      "metadata": {
        "id": "mt8wui1h0KMs"
      }
    },
    {
      "cell_type": "code",
      "source": [
        "# 1. Mengkonversi beberapa object fundamental python menjadi dataframe\n",
        "# Buat list berisi `kode_tuple`, `nama_teman`, `umur_tuple`, dan `gaji_tuple`\n",
        "list_of_objects = [kode_tuple, nama_teman, umur_tuple, gaji_tuple]\n",
        "# Proses list_of_data menjadi dataframe\n",
        "df_fundamental = pd.DataFrame(list_of_objects, index=['Kode','Nama','Usia','Gaji']).T\n",
        "# Check hasil konversi\n",
        "df_fundamental"
      ],
      "metadata": {
        "colab": {
          "base_uri": "https://localhost:8080/",
          "height": 206
        },
        "id": "YDWpUH6y6siX",
        "outputId": "2cce716f-e369-47d1-de01-fd773575ea1e"
      },
      "execution_count": 132,
      "outputs": [
        {
          "output_type": "execute_result",
          "data": {
            "text/plain": [
              "  Kode   Nama Usia     Gaji\n",
              "0  100   Amir   25  1000000\n",
              "1  200   Beni   20  2000000\n",
              "2  300  Cinta   30  3000000\n",
              "3  400  Dimas   40  4000000\n",
              "4  500    Edi   50  5000000"
            ],
            "text/html": [
              "\n",
              "  <div id=\"df-9f4f1bf1-6788-4454-a354-9a3343aecc9f\" class=\"colab-df-container\">\n",
              "    <div>\n",
              "<style scoped>\n",
              "    .dataframe tbody tr th:only-of-type {\n",
              "        vertical-align: middle;\n",
              "    }\n",
              "\n",
              "    .dataframe tbody tr th {\n",
              "        vertical-align: top;\n",
              "    }\n",
              "\n",
              "    .dataframe thead th {\n",
              "        text-align: right;\n",
              "    }\n",
              "</style>\n",
              "<table border=\"1\" class=\"dataframe\">\n",
              "  <thead>\n",
              "    <tr style=\"text-align: right;\">\n",
              "      <th></th>\n",
              "      <th>Kode</th>\n",
              "      <th>Nama</th>\n",
              "      <th>Usia</th>\n",
              "      <th>Gaji</th>\n",
              "    </tr>\n",
              "  </thead>\n",
              "  <tbody>\n",
              "    <tr>\n",
              "      <th>0</th>\n",
              "      <td>100</td>\n",
              "      <td>Amir</td>\n",
              "      <td>25</td>\n",
              "      <td>1000000</td>\n",
              "    </tr>\n",
              "    <tr>\n",
              "      <th>1</th>\n",
              "      <td>200</td>\n",
              "      <td>Beni</td>\n",
              "      <td>20</td>\n",
              "      <td>2000000</td>\n",
              "    </tr>\n",
              "    <tr>\n",
              "      <th>2</th>\n",
              "      <td>300</td>\n",
              "      <td>Cinta</td>\n",
              "      <td>30</td>\n",
              "      <td>3000000</td>\n",
              "    </tr>\n",
              "    <tr>\n",
              "      <th>3</th>\n",
              "      <td>400</td>\n",
              "      <td>Dimas</td>\n",
              "      <td>40</td>\n",
              "      <td>4000000</td>\n",
              "    </tr>\n",
              "    <tr>\n",
              "      <th>4</th>\n",
              "      <td>500</td>\n",
              "      <td>Edi</td>\n",
              "      <td>50</td>\n",
              "      <td>5000000</td>\n",
              "    </tr>\n",
              "  </tbody>\n",
              "</table>\n",
              "</div>\n",
              "    <div class=\"colab-df-buttons\">\n",
              "\n",
              "  <div class=\"colab-df-container\">\n",
              "    <button class=\"colab-df-convert\" onclick=\"convertToInteractive('df-9f4f1bf1-6788-4454-a354-9a3343aecc9f')\"\n",
              "            title=\"Convert this dataframe to an interactive table.\"\n",
              "            style=\"display:none;\">\n",
              "\n",
              "  <svg xmlns=\"http://www.w3.org/2000/svg\" height=\"24px\" viewBox=\"0 -960 960 960\">\n",
              "    <path d=\"M120-120v-720h720v720H120Zm60-500h600v-160H180v160Zm220 220h160v-160H400v160Zm0 220h160v-160H400v160ZM180-400h160v-160H180v160Zm440 0h160v-160H620v160ZM180-180h160v-160H180v160Zm440 0h160v-160H620v160Z\"/>\n",
              "  </svg>\n",
              "    </button>\n",
              "\n",
              "  <style>\n",
              "    .colab-df-container {\n",
              "      display:flex;\n",
              "      gap: 12px;\n",
              "    }\n",
              "\n",
              "    .colab-df-convert {\n",
              "      background-color: #E8F0FE;\n",
              "      border: none;\n",
              "      border-radius: 50%;\n",
              "      cursor: pointer;\n",
              "      display: none;\n",
              "      fill: #1967D2;\n",
              "      height: 32px;\n",
              "      padding: 0 0 0 0;\n",
              "      width: 32px;\n",
              "    }\n",
              "\n",
              "    .colab-df-convert:hover {\n",
              "      background-color: #E2EBFA;\n",
              "      box-shadow: 0px 1px 2px rgba(60, 64, 67, 0.3), 0px 1px 3px 1px rgba(60, 64, 67, 0.15);\n",
              "      fill: #174EA6;\n",
              "    }\n",
              "\n",
              "    .colab-df-buttons div {\n",
              "      margin-bottom: 4px;\n",
              "    }\n",
              "\n",
              "    [theme=dark] .colab-df-convert {\n",
              "      background-color: #3B4455;\n",
              "      fill: #D2E3FC;\n",
              "    }\n",
              "\n",
              "    [theme=dark] .colab-df-convert:hover {\n",
              "      background-color: #434B5C;\n",
              "      box-shadow: 0px 1px 3px 1px rgba(0, 0, 0, 0.15);\n",
              "      filter: drop-shadow(0px 1px 2px rgba(0, 0, 0, 0.3));\n",
              "      fill: #FFFFFF;\n",
              "    }\n",
              "  </style>\n",
              "\n",
              "    <script>\n",
              "      const buttonEl =\n",
              "        document.querySelector('#df-9f4f1bf1-6788-4454-a354-9a3343aecc9f button.colab-df-convert');\n",
              "      buttonEl.style.display =\n",
              "        google.colab.kernel.accessAllowed ? 'block' : 'none';\n",
              "\n",
              "      async function convertToInteractive(key) {\n",
              "        const element = document.querySelector('#df-9f4f1bf1-6788-4454-a354-9a3343aecc9f');\n",
              "        const dataTable =\n",
              "          await google.colab.kernel.invokeFunction('convertToInteractive',\n",
              "                                                    [key], {});\n",
              "        if (!dataTable) return;\n",
              "\n",
              "        const docLinkHtml = 'Like what you see? Visit the ' +\n",
              "          '<a target=\"_blank\" href=https://colab.research.google.com/notebooks/data_table.ipynb>data table notebook</a>'\n",
              "          + ' to learn more about interactive tables.';\n",
              "        element.innerHTML = '';\n",
              "        dataTable['output_type'] = 'display_data';\n",
              "        await google.colab.output.renderOutput(dataTable, element);\n",
              "        const docLink = document.createElement('div');\n",
              "        docLink.innerHTML = docLinkHtml;\n",
              "        element.appendChild(docLink);\n",
              "      }\n",
              "    </script>\n",
              "  </div>\n",
              "\n",
              "\n",
              "<div id=\"df-3a83561a-02a0-477f-8619-a43fea643f4f\">\n",
              "  <button class=\"colab-df-quickchart\" onclick=\"quickchart('df-3a83561a-02a0-477f-8619-a43fea643f4f')\"\n",
              "            title=\"Suggest charts\"\n",
              "            style=\"display:none;\">\n",
              "\n",
              "<svg xmlns=\"http://www.w3.org/2000/svg\" height=\"24px\"viewBox=\"0 0 24 24\"\n",
              "     width=\"24px\">\n",
              "    <g>\n",
              "        <path d=\"M19 3H5c-1.1 0-2 .9-2 2v14c0 1.1.9 2 2 2h14c1.1 0 2-.9 2-2V5c0-1.1-.9-2-2-2zM9 17H7v-7h2v7zm4 0h-2V7h2v10zm4 0h-2v-4h2v4z\"/>\n",
              "    </g>\n",
              "</svg>\n",
              "  </button>\n",
              "\n",
              "<style>\n",
              "  .colab-df-quickchart {\n",
              "      --bg-color: #E8F0FE;\n",
              "      --fill-color: #1967D2;\n",
              "      --hover-bg-color: #E2EBFA;\n",
              "      --hover-fill-color: #174EA6;\n",
              "      --disabled-fill-color: #AAA;\n",
              "      --disabled-bg-color: #DDD;\n",
              "  }\n",
              "\n",
              "  [theme=dark] .colab-df-quickchart {\n",
              "      --bg-color: #3B4455;\n",
              "      --fill-color: #D2E3FC;\n",
              "      --hover-bg-color: #434B5C;\n",
              "      --hover-fill-color: #FFFFFF;\n",
              "      --disabled-bg-color: #3B4455;\n",
              "      --disabled-fill-color: #666;\n",
              "  }\n",
              "\n",
              "  .colab-df-quickchart {\n",
              "    background-color: var(--bg-color);\n",
              "    border: none;\n",
              "    border-radius: 50%;\n",
              "    cursor: pointer;\n",
              "    display: none;\n",
              "    fill: var(--fill-color);\n",
              "    height: 32px;\n",
              "    padding: 0;\n",
              "    width: 32px;\n",
              "  }\n",
              "\n",
              "  .colab-df-quickchart:hover {\n",
              "    background-color: var(--hover-bg-color);\n",
              "    box-shadow: 0 1px 2px rgba(60, 64, 67, 0.3), 0 1px 3px 1px rgba(60, 64, 67, 0.15);\n",
              "    fill: var(--button-hover-fill-color);\n",
              "  }\n",
              "\n",
              "  .colab-df-quickchart-complete:disabled,\n",
              "  .colab-df-quickchart-complete:disabled:hover {\n",
              "    background-color: var(--disabled-bg-color);\n",
              "    fill: var(--disabled-fill-color);\n",
              "    box-shadow: none;\n",
              "  }\n",
              "\n",
              "  .colab-df-spinner {\n",
              "    border: 2px solid var(--fill-color);\n",
              "    border-color: transparent;\n",
              "    border-bottom-color: var(--fill-color);\n",
              "    animation:\n",
              "      spin 1s steps(1) infinite;\n",
              "  }\n",
              "\n",
              "  @keyframes spin {\n",
              "    0% {\n",
              "      border-color: transparent;\n",
              "      border-bottom-color: var(--fill-color);\n",
              "      border-left-color: var(--fill-color);\n",
              "    }\n",
              "    20% {\n",
              "      border-color: transparent;\n",
              "      border-left-color: var(--fill-color);\n",
              "      border-top-color: var(--fill-color);\n",
              "    }\n",
              "    30% {\n",
              "      border-color: transparent;\n",
              "      border-left-color: var(--fill-color);\n",
              "      border-top-color: var(--fill-color);\n",
              "      border-right-color: var(--fill-color);\n",
              "    }\n",
              "    40% {\n",
              "      border-color: transparent;\n",
              "      border-right-color: var(--fill-color);\n",
              "      border-top-color: var(--fill-color);\n",
              "    }\n",
              "    60% {\n",
              "      border-color: transparent;\n",
              "      border-right-color: var(--fill-color);\n",
              "    }\n",
              "    80% {\n",
              "      border-color: transparent;\n",
              "      border-right-color: var(--fill-color);\n",
              "      border-bottom-color: var(--fill-color);\n",
              "    }\n",
              "    90% {\n",
              "      border-color: transparent;\n",
              "      border-bottom-color: var(--fill-color);\n",
              "    }\n",
              "  }\n",
              "</style>\n",
              "\n",
              "  <script>\n",
              "    async function quickchart(key) {\n",
              "      const quickchartButtonEl =\n",
              "        document.querySelector('#' + key + ' button');\n",
              "      quickchartButtonEl.disabled = true;  // To prevent multiple clicks.\n",
              "      quickchartButtonEl.classList.add('colab-df-spinner');\n",
              "      try {\n",
              "        const charts = await google.colab.kernel.invokeFunction(\n",
              "            'suggestCharts', [key], {});\n",
              "      } catch (error) {\n",
              "        console.error('Error during call to suggestCharts:', error);\n",
              "      }\n",
              "      quickchartButtonEl.classList.remove('colab-df-spinner');\n",
              "      quickchartButtonEl.classList.add('colab-df-quickchart-complete');\n",
              "    }\n",
              "    (() => {\n",
              "      let quickchartButtonEl =\n",
              "        document.querySelector('#df-3a83561a-02a0-477f-8619-a43fea643f4f button');\n",
              "      quickchartButtonEl.style.display =\n",
              "        google.colab.kernel.accessAllowed ? 'block' : 'none';\n",
              "    })();\n",
              "  </script>\n",
              "</div>\n",
              "\n",
              "  <div id=\"id_062a0df7-7109-4bf1-9e12-55975159c544\">\n",
              "    <style>\n",
              "      .colab-df-generate {\n",
              "        background-color: #E8F0FE;\n",
              "        border: none;\n",
              "        border-radius: 50%;\n",
              "        cursor: pointer;\n",
              "        display: none;\n",
              "        fill: #1967D2;\n",
              "        height: 32px;\n",
              "        padding: 0 0 0 0;\n",
              "        width: 32px;\n",
              "      }\n",
              "\n",
              "      .colab-df-generate:hover {\n",
              "        background-color: #E2EBFA;\n",
              "        box-shadow: 0px 1px 2px rgba(60, 64, 67, 0.3), 0px 1px 3px 1px rgba(60, 64, 67, 0.15);\n",
              "        fill: #174EA6;\n",
              "      }\n",
              "\n",
              "      [theme=dark] .colab-df-generate {\n",
              "        background-color: #3B4455;\n",
              "        fill: #D2E3FC;\n",
              "      }\n",
              "\n",
              "      [theme=dark] .colab-df-generate:hover {\n",
              "        background-color: #434B5C;\n",
              "        box-shadow: 0px 1px 3px 1px rgba(0, 0, 0, 0.15);\n",
              "        filter: drop-shadow(0px 1px 2px rgba(0, 0, 0, 0.3));\n",
              "        fill: #FFFFFF;\n",
              "      }\n",
              "    </style>\n",
              "    <button class=\"colab-df-generate\" onclick=\"generateWithVariable('df_fundamental')\"\n",
              "            title=\"Generate code using this dataframe.\"\n",
              "            style=\"display:none;\">\n",
              "\n",
              "  <svg xmlns=\"http://www.w3.org/2000/svg\" height=\"24px\"viewBox=\"0 0 24 24\"\n",
              "       width=\"24px\">\n",
              "    <path d=\"M7,19H8.4L18.45,9,17,7.55,7,17.6ZM5,21V16.75L18.45,3.32a2,2,0,0,1,2.83,0l1.4,1.43a1.91,1.91,0,0,1,.58,1.4,1.91,1.91,0,0,1-.58,1.4L9.25,21ZM18.45,9,17,7.55Zm-12,3A5.31,5.31,0,0,0,4.9,8.1,5.31,5.31,0,0,0,1,6.5,5.31,5.31,0,0,0,4.9,4.9,5.31,5.31,0,0,0,6.5,1,5.31,5.31,0,0,0,8.1,4.9,5.31,5.31,0,0,0,12,6.5,5.46,5.46,0,0,0,6.5,12Z\"/>\n",
              "  </svg>\n",
              "    </button>\n",
              "    <script>\n",
              "      (() => {\n",
              "      const buttonEl =\n",
              "        document.querySelector('#id_062a0df7-7109-4bf1-9e12-55975159c544 button.colab-df-generate');\n",
              "      buttonEl.style.display =\n",
              "        google.colab.kernel.accessAllowed ? 'block' : 'none';\n",
              "\n",
              "      buttonEl.onclick = () => {\n",
              "        google.colab.notebook.generateWithVariable('df_fundamental');\n",
              "      }\n",
              "      })();\n",
              "    </script>\n",
              "  </div>\n",
              "\n",
              "    </div>\n",
              "  </div>\n"
            ],
            "application/vnd.google.colaboratory.intrinsic+json": {
              "type": "dataframe",
              "variable_name": "df_fundamental",
              "summary": "{\n  \"name\": \"df_fundamental\",\n  \"rows\": 5,\n  \"fields\": [\n    {\n      \"column\": \"Kode\",\n      \"properties\": {\n        \"dtype\": \"date\",\n        \"min\": 100,\n        \"max\": 500,\n        \"num_unique_values\": 5,\n        \"samples\": [\n          200,\n          500,\n          300\n        ],\n        \"semantic_type\": \"\",\n        \"description\": \"\"\n      }\n    },\n    {\n      \"column\": \"Nama\",\n      \"properties\": {\n        \"dtype\": \"string\",\n        \"num_unique_values\": 5,\n        \"samples\": [\n          \"Beni\",\n          \"Edi\",\n          \"Cinta\"\n        ],\n        \"semantic_type\": \"\",\n        \"description\": \"\"\n      }\n    },\n    {\n      \"column\": \"Usia\",\n      \"properties\": {\n        \"dtype\": \"date\",\n        \"min\": 20,\n        \"max\": 50,\n        \"num_unique_values\": 5,\n        \"samples\": [\n          20,\n          50,\n          30\n        ],\n        \"semantic_type\": \"\",\n        \"description\": \"\"\n      }\n    },\n    {\n      \"column\": \"Gaji\",\n      \"properties\": {\n        \"dtype\": \"date\",\n        \"min\": 1000000,\n        \"max\": 5000000,\n        \"num_unique_values\": 5,\n        \"samples\": [\n          2000000,\n          5000000,\n          3000000\n        ],\n        \"semantic_type\": \"\",\n        \"description\": \"\"\n      }\n    }\n  ]\n}"
            }
          },
          "metadata": {},
          "execution_count": 132
        }
      ]
    },
    {
      "cell_type": "code",
      "source": [
        "# 2. Mengkonversi beberapa series menjadi dataframe\n",
        "# Buat list berisi kode_tuple, nama_teman, umur_tuple, dan gaji_tuple yang telah diubah menjadi object series\n",
        "list_of_series = [\n",
        "    pd.Series(kode_tuple, name='Kode'),\n",
        "    pd.Series(nama_teman, name='Nama'),\n",
        "    pd.Series(umur_tuple, name='Usia'),\n",
        "    pd.Series(gaji_tuple, name='Gaji')\n",
        "]\n",
        "# Proses list_of_series menjadi dataframe\n",
        "df_series = pd.DataFrame(list_of_series).T\n",
        "# Check hasil konversi\n",
        "df_series"
      ],
      "metadata": {
        "colab": {
          "base_uri": "https://localhost:8080/",
          "height": 206
        },
        "id": "rsmEEuaFu7ZY",
        "outputId": "7fbc815b-14f3-4c63-e429-515c73826b75"
      },
      "execution_count": 145,
      "outputs": [
        {
          "output_type": "execute_result",
          "data": {
            "text/plain": [
              "  Kode   Nama Usia     Gaji\n",
              "0  100   Amir   25  1000000\n",
              "1  200   Beni   20  2000000\n",
              "2  300  Cinta   30  3000000\n",
              "3  400  Dimas   40  4000000\n",
              "4  500    Edi   50  5000000"
            ],
            "text/html": [
              "\n",
              "  <div id=\"df-e804904e-7cf2-44ea-a873-1c193713b005\" class=\"colab-df-container\">\n",
              "    <div>\n",
              "<style scoped>\n",
              "    .dataframe tbody tr th:only-of-type {\n",
              "        vertical-align: middle;\n",
              "    }\n",
              "\n",
              "    .dataframe tbody tr th {\n",
              "        vertical-align: top;\n",
              "    }\n",
              "\n",
              "    .dataframe thead th {\n",
              "        text-align: right;\n",
              "    }\n",
              "</style>\n",
              "<table border=\"1\" class=\"dataframe\">\n",
              "  <thead>\n",
              "    <tr style=\"text-align: right;\">\n",
              "      <th></th>\n",
              "      <th>Kode</th>\n",
              "      <th>Nama</th>\n",
              "      <th>Usia</th>\n",
              "      <th>Gaji</th>\n",
              "    </tr>\n",
              "  </thead>\n",
              "  <tbody>\n",
              "    <tr>\n",
              "      <th>0</th>\n",
              "      <td>100</td>\n",
              "      <td>Amir</td>\n",
              "      <td>25</td>\n",
              "      <td>1000000</td>\n",
              "    </tr>\n",
              "    <tr>\n",
              "      <th>1</th>\n",
              "      <td>200</td>\n",
              "      <td>Beni</td>\n",
              "      <td>20</td>\n",
              "      <td>2000000</td>\n",
              "    </tr>\n",
              "    <tr>\n",
              "      <th>2</th>\n",
              "      <td>300</td>\n",
              "      <td>Cinta</td>\n",
              "      <td>30</td>\n",
              "      <td>3000000</td>\n",
              "    </tr>\n",
              "    <tr>\n",
              "      <th>3</th>\n",
              "      <td>400</td>\n",
              "      <td>Dimas</td>\n",
              "      <td>40</td>\n",
              "      <td>4000000</td>\n",
              "    </tr>\n",
              "    <tr>\n",
              "      <th>4</th>\n",
              "      <td>500</td>\n",
              "      <td>Edi</td>\n",
              "      <td>50</td>\n",
              "      <td>5000000</td>\n",
              "    </tr>\n",
              "  </tbody>\n",
              "</table>\n",
              "</div>\n",
              "    <div class=\"colab-df-buttons\">\n",
              "\n",
              "  <div class=\"colab-df-container\">\n",
              "    <button class=\"colab-df-convert\" onclick=\"convertToInteractive('df-e804904e-7cf2-44ea-a873-1c193713b005')\"\n",
              "            title=\"Convert this dataframe to an interactive table.\"\n",
              "            style=\"display:none;\">\n",
              "\n",
              "  <svg xmlns=\"http://www.w3.org/2000/svg\" height=\"24px\" viewBox=\"0 -960 960 960\">\n",
              "    <path d=\"M120-120v-720h720v720H120Zm60-500h600v-160H180v160Zm220 220h160v-160H400v160Zm0 220h160v-160H400v160ZM180-400h160v-160H180v160Zm440 0h160v-160H620v160ZM180-180h160v-160H180v160Zm440 0h160v-160H620v160Z\"/>\n",
              "  </svg>\n",
              "    </button>\n",
              "\n",
              "  <style>\n",
              "    .colab-df-container {\n",
              "      display:flex;\n",
              "      gap: 12px;\n",
              "    }\n",
              "\n",
              "    .colab-df-convert {\n",
              "      background-color: #E8F0FE;\n",
              "      border: none;\n",
              "      border-radius: 50%;\n",
              "      cursor: pointer;\n",
              "      display: none;\n",
              "      fill: #1967D2;\n",
              "      height: 32px;\n",
              "      padding: 0 0 0 0;\n",
              "      width: 32px;\n",
              "    }\n",
              "\n",
              "    .colab-df-convert:hover {\n",
              "      background-color: #E2EBFA;\n",
              "      box-shadow: 0px 1px 2px rgba(60, 64, 67, 0.3), 0px 1px 3px 1px rgba(60, 64, 67, 0.15);\n",
              "      fill: #174EA6;\n",
              "    }\n",
              "\n",
              "    .colab-df-buttons div {\n",
              "      margin-bottom: 4px;\n",
              "    }\n",
              "\n",
              "    [theme=dark] .colab-df-convert {\n",
              "      background-color: #3B4455;\n",
              "      fill: #D2E3FC;\n",
              "    }\n",
              "\n",
              "    [theme=dark] .colab-df-convert:hover {\n",
              "      background-color: #434B5C;\n",
              "      box-shadow: 0px 1px 3px 1px rgba(0, 0, 0, 0.15);\n",
              "      filter: drop-shadow(0px 1px 2px rgba(0, 0, 0, 0.3));\n",
              "      fill: #FFFFFF;\n",
              "    }\n",
              "  </style>\n",
              "\n",
              "    <script>\n",
              "      const buttonEl =\n",
              "        document.querySelector('#df-e804904e-7cf2-44ea-a873-1c193713b005 button.colab-df-convert');\n",
              "      buttonEl.style.display =\n",
              "        google.colab.kernel.accessAllowed ? 'block' : 'none';\n",
              "\n",
              "      async function convertToInteractive(key) {\n",
              "        const element = document.querySelector('#df-e804904e-7cf2-44ea-a873-1c193713b005');\n",
              "        const dataTable =\n",
              "          await google.colab.kernel.invokeFunction('convertToInteractive',\n",
              "                                                    [key], {});\n",
              "        if (!dataTable) return;\n",
              "\n",
              "        const docLinkHtml = 'Like what you see? Visit the ' +\n",
              "          '<a target=\"_blank\" href=https://colab.research.google.com/notebooks/data_table.ipynb>data table notebook</a>'\n",
              "          + ' to learn more about interactive tables.';\n",
              "        element.innerHTML = '';\n",
              "        dataTable['output_type'] = 'display_data';\n",
              "        await google.colab.output.renderOutput(dataTable, element);\n",
              "        const docLink = document.createElement('div');\n",
              "        docLink.innerHTML = docLinkHtml;\n",
              "        element.appendChild(docLink);\n",
              "      }\n",
              "    </script>\n",
              "  </div>\n",
              "\n",
              "\n",
              "<div id=\"df-45e7e030-e816-490b-8dc5-93b77069b43c\">\n",
              "  <button class=\"colab-df-quickchart\" onclick=\"quickchart('df-45e7e030-e816-490b-8dc5-93b77069b43c')\"\n",
              "            title=\"Suggest charts\"\n",
              "            style=\"display:none;\">\n",
              "\n",
              "<svg xmlns=\"http://www.w3.org/2000/svg\" height=\"24px\"viewBox=\"0 0 24 24\"\n",
              "     width=\"24px\">\n",
              "    <g>\n",
              "        <path d=\"M19 3H5c-1.1 0-2 .9-2 2v14c0 1.1.9 2 2 2h14c1.1 0 2-.9 2-2V5c0-1.1-.9-2-2-2zM9 17H7v-7h2v7zm4 0h-2V7h2v10zm4 0h-2v-4h2v4z\"/>\n",
              "    </g>\n",
              "</svg>\n",
              "  </button>\n",
              "\n",
              "<style>\n",
              "  .colab-df-quickchart {\n",
              "      --bg-color: #E8F0FE;\n",
              "      --fill-color: #1967D2;\n",
              "      --hover-bg-color: #E2EBFA;\n",
              "      --hover-fill-color: #174EA6;\n",
              "      --disabled-fill-color: #AAA;\n",
              "      --disabled-bg-color: #DDD;\n",
              "  }\n",
              "\n",
              "  [theme=dark] .colab-df-quickchart {\n",
              "      --bg-color: #3B4455;\n",
              "      --fill-color: #D2E3FC;\n",
              "      --hover-bg-color: #434B5C;\n",
              "      --hover-fill-color: #FFFFFF;\n",
              "      --disabled-bg-color: #3B4455;\n",
              "      --disabled-fill-color: #666;\n",
              "  }\n",
              "\n",
              "  .colab-df-quickchart {\n",
              "    background-color: var(--bg-color);\n",
              "    border: none;\n",
              "    border-radius: 50%;\n",
              "    cursor: pointer;\n",
              "    display: none;\n",
              "    fill: var(--fill-color);\n",
              "    height: 32px;\n",
              "    padding: 0;\n",
              "    width: 32px;\n",
              "  }\n",
              "\n",
              "  .colab-df-quickchart:hover {\n",
              "    background-color: var(--hover-bg-color);\n",
              "    box-shadow: 0 1px 2px rgba(60, 64, 67, 0.3), 0 1px 3px 1px rgba(60, 64, 67, 0.15);\n",
              "    fill: var(--button-hover-fill-color);\n",
              "  }\n",
              "\n",
              "  .colab-df-quickchart-complete:disabled,\n",
              "  .colab-df-quickchart-complete:disabled:hover {\n",
              "    background-color: var(--disabled-bg-color);\n",
              "    fill: var(--disabled-fill-color);\n",
              "    box-shadow: none;\n",
              "  }\n",
              "\n",
              "  .colab-df-spinner {\n",
              "    border: 2px solid var(--fill-color);\n",
              "    border-color: transparent;\n",
              "    border-bottom-color: var(--fill-color);\n",
              "    animation:\n",
              "      spin 1s steps(1) infinite;\n",
              "  }\n",
              "\n",
              "  @keyframes spin {\n",
              "    0% {\n",
              "      border-color: transparent;\n",
              "      border-bottom-color: var(--fill-color);\n",
              "      border-left-color: var(--fill-color);\n",
              "    }\n",
              "    20% {\n",
              "      border-color: transparent;\n",
              "      border-left-color: var(--fill-color);\n",
              "      border-top-color: var(--fill-color);\n",
              "    }\n",
              "    30% {\n",
              "      border-color: transparent;\n",
              "      border-left-color: var(--fill-color);\n",
              "      border-top-color: var(--fill-color);\n",
              "      border-right-color: var(--fill-color);\n",
              "    }\n",
              "    40% {\n",
              "      border-color: transparent;\n",
              "      border-right-color: var(--fill-color);\n",
              "      border-top-color: var(--fill-color);\n",
              "    }\n",
              "    60% {\n",
              "      border-color: transparent;\n",
              "      border-right-color: var(--fill-color);\n",
              "    }\n",
              "    80% {\n",
              "      border-color: transparent;\n",
              "      border-right-color: var(--fill-color);\n",
              "      border-bottom-color: var(--fill-color);\n",
              "    }\n",
              "    90% {\n",
              "      border-color: transparent;\n",
              "      border-bottom-color: var(--fill-color);\n",
              "    }\n",
              "  }\n",
              "</style>\n",
              "\n",
              "  <script>\n",
              "    async function quickchart(key) {\n",
              "      const quickchartButtonEl =\n",
              "        document.querySelector('#' + key + ' button');\n",
              "      quickchartButtonEl.disabled = true;  // To prevent multiple clicks.\n",
              "      quickchartButtonEl.classList.add('colab-df-spinner');\n",
              "      try {\n",
              "        const charts = await google.colab.kernel.invokeFunction(\n",
              "            'suggestCharts', [key], {});\n",
              "      } catch (error) {\n",
              "        console.error('Error during call to suggestCharts:', error);\n",
              "      }\n",
              "      quickchartButtonEl.classList.remove('colab-df-spinner');\n",
              "      quickchartButtonEl.classList.add('colab-df-quickchart-complete');\n",
              "    }\n",
              "    (() => {\n",
              "      let quickchartButtonEl =\n",
              "        document.querySelector('#df-45e7e030-e816-490b-8dc5-93b77069b43c button');\n",
              "      quickchartButtonEl.style.display =\n",
              "        google.colab.kernel.accessAllowed ? 'block' : 'none';\n",
              "    })();\n",
              "  </script>\n",
              "</div>\n",
              "\n",
              "  <div id=\"id_8ac2113b-b9e0-42dc-9bad-0143793c1e5c\">\n",
              "    <style>\n",
              "      .colab-df-generate {\n",
              "        background-color: #E8F0FE;\n",
              "        border: none;\n",
              "        border-radius: 50%;\n",
              "        cursor: pointer;\n",
              "        display: none;\n",
              "        fill: #1967D2;\n",
              "        height: 32px;\n",
              "        padding: 0 0 0 0;\n",
              "        width: 32px;\n",
              "      }\n",
              "\n",
              "      .colab-df-generate:hover {\n",
              "        background-color: #E2EBFA;\n",
              "        box-shadow: 0px 1px 2px rgba(60, 64, 67, 0.3), 0px 1px 3px 1px rgba(60, 64, 67, 0.15);\n",
              "        fill: #174EA6;\n",
              "      }\n",
              "\n",
              "      [theme=dark] .colab-df-generate {\n",
              "        background-color: #3B4455;\n",
              "        fill: #D2E3FC;\n",
              "      }\n",
              "\n",
              "      [theme=dark] .colab-df-generate:hover {\n",
              "        background-color: #434B5C;\n",
              "        box-shadow: 0px 1px 3px 1px rgba(0, 0, 0, 0.15);\n",
              "        filter: drop-shadow(0px 1px 2px rgba(0, 0, 0, 0.3));\n",
              "        fill: #FFFFFF;\n",
              "      }\n",
              "    </style>\n",
              "    <button class=\"colab-df-generate\" onclick=\"generateWithVariable('df_series')\"\n",
              "            title=\"Generate code using this dataframe.\"\n",
              "            style=\"display:none;\">\n",
              "\n",
              "  <svg xmlns=\"http://www.w3.org/2000/svg\" height=\"24px\"viewBox=\"0 0 24 24\"\n",
              "       width=\"24px\">\n",
              "    <path d=\"M7,19H8.4L18.45,9,17,7.55,7,17.6ZM5,21V16.75L18.45,3.32a2,2,0,0,1,2.83,0l1.4,1.43a1.91,1.91,0,0,1,.58,1.4,1.91,1.91,0,0,1-.58,1.4L9.25,21ZM18.45,9,17,7.55Zm-12,3A5.31,5.31,0,0,0,4.9,8.1,5.31,5.31,0,0,0,1,6.5,5.31,5.31,0,0,0,4.9,4.9,5.31,5.31,0,0,0,6.5,1,5.31,5.31,0,0,0,8.1,4.9,5.31,5.31,0,0,0,12,6.5,5.46,5.46,0,0,0,6.5,12Z\"/>\n",
              "  </svg>\n",
              "    </button>\n",
              "    <script>\n",
              "      (() => {\n",
              "      const buttonEl =\n",
              "        document.querySelector('#id_8ac2113b-b9e0-42dc-9bad-0143793c1e5c button.colab-df-generate');\n",
              "      buttonEl.style.display =\n",
              "        google.colab.kernel.accessAllowed ? 'block' : 'none';\n",
              "\n",
              "      buttonEl.onclick = () => {\n",
              "        google.colab.notebook.generateWithVariable('df_series');\n",
              "      }\n",
              "      })();\n",
              "    </script>\n",
              "  </div>\n",
              "\n",
              "    </div>\n",
              "  </div>\n"
            ],
            "application/vnd.google.colaboratory.intrinsic+json": {
              "type": "dataframe",
              "variable_name": "df_series",
              "summary": "{\n  \"name\": \"df_series\",\n  \"rows\": 5,\n  \"fields\": [\n    {\n      \"column\": \"Kode\",\n      \"properties\": {\n        \"dtype\": \"date\",\n        \"min\": 100,\n        \"max\": 500,\n        \"num_unique_values\": 5,\n        \"samples\": [\n          200,\n          500,\n          300\n        ],\n        \"semantic_type\": \"\",\n        \"description\": \"\"\n      }\n    },\n    {\n      \"column\": \"Nama\",\n      \"properties\": {\n        \"dtype\": \"string\",\n        \"num_unique_values\": 5,\n        \"samples\": [\n          \"Beni\",\n          \"Edi\",\n          \"Cinta\"\n        ],\n        \"semantic_type\": \"\",\n        \"description\": \"\"\n      }\n    },\n    {\n      \"column\": \"Usia\",\n      \"properties\": {\n        \"dtype\": \"date\",\n        \"min\": 20,\n        \"max\": 50,\n        \"num_unique_values\": 5,\n        \"samples\": [\n          20,\n          50,\n          30\n        ],\n        \"semantic_type\": \"\",\n        \"description\": \"\"\n      }\n    },\n    {\n      \"column\": \"Gaji\",\n      \"properties\": {\n        \"dtype\": \"date\",\n        \"min\": 1000000,\n        \"max\": 5000000,\n        \"num_unique_values\": 5,\n        \"samples\": [\n          2000000,\n          5000000,\n          3000000\n        ],\n        \"semantic_type\": \"\",\n        \"description\": \"\"\n      }\n    }\n  ]\n}"
            }
          },
          "metadata": {},
          "execution_count": 145
        }
      ]
    },
    {
      "cell_type": "code",
      "source": [
        "# 3. Menkonversi dictionary menjadi dataframe\n",
        "# Buat dictionary kengan keys=['Kode', 'Nama', 'Umur', 'Gaji'] dan values=[kode_tuple, nama_teman, umur_tuple, gaji_tuple]\n",
        "data_teman = {\n",
        "    'Kode': kode_tuple,\n",
        "    'Nama': nama_teman,\n",
        "    'Usia': umur_tuple,\n",
        "    'Gaji': gaji_tuple\n",
        "}\n",
        "# Konversi dictionary menjadi dataframe\n",
        "df_dictionary = pd.DataFrame(data_teman)\n",
        "# Check hasil konversi\n",
        "df_dictionary"
      ],
      "metadata": {
        "colab": {
          "base_uri": "https://localhost:8080/",
          "height": 206
        },
        "id": "SV73Drfn7G5r",
        "outputId": "a0800c3b-f8dd-4dd4-ed78-a2fdeb3b30ed"
      },
      "execution_count": 147,
      "outputs": [
        {
          "output_type": "execute_result",
          "data": {
            "text/plain": [
              "   Kode   Nama  Usia     Gaji\n",
              "0   100   Amir    25  1000000\n",
              "1   200   Beni    20  2000000\n",
              "2   300  Cinta    30  3000000\n",
              "3   400  Dimas    40  4000000\n",
              "4   500    Edi    50  5000000"
            ],
            "text/html": [
              "\n",
              "  <div id=\"df-e755e2ca-eca2-438b-84f8-01a3152a88ae\" class=\"colab-df-container\">\n",
              "    <div>\n",
              "<style scoped>\n",
              "    .dataframe tbody tr th:only-of-type {\n",
              "        vertical-align: middle;\n",
              "    }\n",
              "\n",
              "    .dataframe tbody tr th {\n",
              "        vertical-align: top;\n",
              "    }\n",
              "\n",
              "    .dataframe thead th {\n",
              "        text-align: right;\n",
              "    }\n",
              "</style>\n",
              "<table border=\"1\" class=\"dataframe\">\n",
              "  <thead>\n",
              "    <tr style=\"text-align: right;\">\n",
              "      <th></th>\n",
              "      <th>Kode</th>\n",
              "      <th>Nama</th>\n",
              "      <th>Usia</th>\n",
              "      <th>Gaji</th>\n",
              "    </tr>\n",
              "  </thead>\n",
              "  <tbody>\n",
              "    <tr>\n",
              "      <th>0</th>\n",
              "      <td>100</td>\n",
              "      <td>Amir</td>\n",
              "      <td>25</td>\n",
              "      <td>1000000</td>\n",
              "    </tr>\n",
              "    <tr>\n",
              "      <th>1</th>\n",
              "      <td>200</td>\n",
              "      <td>Beni</td>\n",
              "      <td>20</td>\n",
              "      <td>2000000</td>\n",
              "    </tr>\n",
              "    <tr>\n",
              "      <th>2</th>\n",
              "      <td>300</td>\n",
              "      <td>Cinta</td>\n",
              "      <td>30</td>\n",
              "      <td>3000000</td>\n",
              "    </tr>\n",
              "    <tr>\n",
              "      <th>3</th>\n",
              "      <td>400</td>\n",
              "      <td>Dimas</td>\n",
              "      <td>40</td>\n",
              "      <td>4000000</td>\n",
              "    </tr>\n",
              "    <tr>\n",
              "      <th>4</th>\n",
              "      <td>500</td>\n",
              "      <td>Edi</td>\n",
              "      <td>50</td>\n",
              "      <td>5000000</td>\n",
              "    </tr>\n",
              "  </tbody>\n",
              "</table>\n",
              "</div>\n",
              "    <div class=\"colab-df-buttons\">\n",
              "\n",
              "  <div class=\"colab-df-container\">\n",
              "    <button class=\"colab-df-convert\" onclick=\"convertToInteractive('df-e755e2ca-eca2-438b-84f8-01a3152a88ae')\"\n",
              "            title=\"Convert this dataframe to an interactive table.\"\n",
              "            style=\"display:none;\">\n",
              "\n",
              "  <svg xmlns=\"http://www.w3.org/2000/svg\" height=\"24px\" viewBox=\"0 -960 960 960\">\n",
              "    <path d=\"M120-120v-720h720v720H120Zm60-500h600v-160H180v160Zm220 220h160v-160H400v160Zm0 220h160v-160H400v160ZM180-400h160v-160H180v160Zm440 0h160v-160H620v160ZM180-180h160v-160H180v160Zm440 0h160v-160H620v160Z\"/>\n",
              "  </svg>\n",
              "    </button>\n",
              "\n",
              "  <style>\n",
              "    .colab-df-container {\n",
              "      display:flex;\n",
              "      gap: 12px;\n",
              "    }\n",
              "\n",
              "    .colab-df-convert {\n",
              "      background-color: #E8F0FE;\n",
              "      border: none;\n",
              "      border-radius: 50%;\n",
              "      cursor: pointer;\n",
              "      display: none;\n",
              "      fill: #1967D2;\n",
              "      height: 32px;\n",
              "      padding: 0 0 0 0;\n",
              "      width: 32px;\n",
              "    }\n",
              "\n",
              "    .colab-df-convert:hover {\n",
              "      background-color: #E2EBFA;\n",
              "      box-shadow: 0px 1px 2px rgba(60, 64, 67, 0.3), 0px 1px 3px 1px rgba(60, 64, 67, 0.15);\n",
              "      fill: #174EA6;\n",
              "    }\n",
              "\n",
              "    .colab-df-buttons div {\n",
              "      margin-bottom: 4px;\n",
              "    }\n",
              "\n",
              "    [theme=dark] .colab-df-convert {\n",
              "      background-color: #3B4455;\n",
              "      fill: #D2E3FC;\n",
              "    }\n",
              "\n",
              "    [theme=dark] .colab-df-convert:hover {\n",
              "      background-color: #434B5C;\n",
              "      box-shadow: 0px 1px 3px 1px rgba(0, 0, 0, 0.15);\n",
              "      filter: drop-shadow(0px 1px 2px rgba(0, 0, 0, 0.3));\n",
              "      fill: #FFFFFF;\n",
              "    }\n",
              "  </style>\n",
              "\n",
              "    <script>\n",
              "      const buttonEl =\n",
              "        document.querySelector('#df-e755e2ca-eca2-438b-84f8-01a3152a88ae button.colab-df-convert');\n",
              "      buttonEl.style.display =\n",
              "        google.colab.kernel.accessAllowed ? 'block' : 'none';\n",
              "\n",
              "      async function convertToInteractive(key) {\n",
              "        const element = document.querySelector('#df-e755e2ca-eca2-438b-84f8-01a3152a88ae');\n",
              "        const dataTable =\n",
              "          await google.colab.kernel.invokeFunction('convertToInteractive',\n",
              "                                                    [key], {});\n",
              "        if (!dataTable) return;\n",
              "\n",
              "        const docLinkHtml = 'Like what you see? Visit the ' +\n",
              "          '<a target=\"_blank\" href=https://colab.research.google.com/notebooks/data_table.ipynb>data table notebook</a>'\n",
              "          + ' to learn more about interactive tables.';\n",
              "        element.innerHTML = '';\n",
              "        dataTable['output_type'] = 'display_data';\n",
              "        await google.colab.output.renderOutput(dataTable, element);\n",
              "        const docLink = document.createElement('div');\n",
              "        docLink.innerHTML = docLinkHtml;\n",
              "        element.appendChild(docLink);\n",
              "      }\n",
              "    </script>\n",
              "  </div>\n",
              "\n",
              "\n",
              "<div id=\"df-3d76312f-d1e8-452c-a9f8-8dde12b61624\">\n",
              "  <button class=\"colab-df-quickchart\" onclick=\"quickchart('df-3d76312f-d1e8-452c-a9f8-8dde12b61624')\"\n",
              "            title=\"Suggest charts\"\n",
              "            style=\"display:none;\">\n",
              "\n",
              "<svg xmlns=\"http://www.w3.org/2000/svg\" height=\"24px\"viewBox=\"0 0 24 24\"\n",
              "     width=\"24px\">\n",
              "    <g>\n",
              "        <path d=\"M19 3H5c-1.1 0-2 .9-2 2v14c0 1.1.9 2 2 2h14c1.1 0 2-.9 2-2V5c0-1.1-.9-2-2-2zM9 17H7v-7h2v7zm4 0h-2V7h2v10zm4 0h-2v-4h2v4z\"/>\n",
              "    </g>\n",
              "</svg>\n",
              "  </button>\n",
              "\n",
              "<style>\n",
              "  .colab-df-quickchart {\n",
              "      --bg-color: #E8F0FE;\n",
              "      --fill-color: #1967D2;\n",
              "      --hover-bg-color: #E2EBFA;\n",
              "      --hover-fill-color: #174EA6;\n",
              "      --disabled-fill-color: #AAA;\n",
              "      --disabled-bg-color: #DDD;\n",
              "  }\n",
              "\n",
              "  [theme=dark] .colab-df-quickchart {\n",
              "      --bg-color: #3B4455;\n",
              "      --fill-color: #D2E3FC;\n",
              "      --hover-bg-color: #434B5C;\n",
              "      --hover-fill-color: #FFFFFF;\n",
              "      --disabled-bg-color: #3B4455;\n",
              "      --disabled-fill-color: #666;\n",
              "  }\n",
              "\n",
              "  .colab-df-quickchart {\n",
              "    background-color: var(--bg-color);\n",
              "    border: none;\n",
              "    border-radius: 50%;\n",
              "    cursor: pointer;\n",
              "    display: none;\n",
              "    fill: var(--fill-color);\n",
              "    height: 32px;\n",
              "    padding: 0;\n",
              "    width: 32px;\n",
              "  }\n",
              "\n",
              "  .colab-df-quickchart:hover {\n",
              "    background-color: var(--hover-bg-color);\n",
              "    box-shadow: 0 1px 2px rgba(60, 64, 67, 0.3), 0 1px 3px 1px rgba(60, 64, 67, 0.15);\n",
              "    fill: var(--button-hover-fill-color);\n",
              "  }\n",
              "\n",
              "  .colab-df-quickchart-complete:disabled,\n",
              "  .colab-df-quickchart-complete:disabled:hover {\n",
              "    background-color: var(--disabled-bg-color);\n",
              "    fill: var(--disabled-fill-color);\n",
              "    box-shadow: none;\n",
              "  }\n",
              "\n",
              "  .colab-df-spinner {\n",
              "    border: 2px solid var(--fill-color);\n",
              "    border-color: transparent;\n",
              "    border-bottom-color: var(--fill-color);\n",
              "    animation:\n",
              "      spin 1s steps(1) infinite;\n",
              "  }\n",
              "\n",
              "  @keyframes spin {\n",
              "    0% {\n",
              "      border-color: transparent;\n",
              "      border-bottom-color: var(--fill-color);\n",
              "      border-left-color: var(--fill-color);\n",
              "    }\n",
              "    20% {\n",
              "      border-color: transparent;\n",
              "      border-left-color: var(--fill-color);\n",
              "      border-top-color: var(--fill-color);\n",
              "    }\n",
              "    30% {\n",
              "      border-color: transparent;\n",
              "      border-left-color: var(--fill-color);\n",
              "      border-top-color: var(--fill-color);\n",
              "      border-right-color: var(--fill-color);\n",
              "    }\n",
              "    40% {\n",
              "      border-color: transparent;\n",
              "      border-right-color: var(--fill-color);\n",
              "      border-top-color: var(--fill-color);\n",
              "    }\n",
              "    60% {\n",
              "      border-color: transparent;\n",
              "      border-right-color: var(--fill-color);\n",
              "    }\n",
              "    80% {\n",
              "      border-color: transparent;\n",
              "      border-right-color: var(--fill-color);\n",
              "      border-bottom-color: var(--fill-color);\n",
              "    }\n",
              "    90% {\n",
              "      border-color: transparent;\n",
              "      border-bottom-color: var(--fill-color);\n",
              "    }\n",
              "  }\n",
              "</style>\n",
              "\n",
              "  <script>\n",
              "    async function quickchart(key) {\n",
              "      const quickchartButtonEl =\n",
              "        document.querySelector('#' + key + ' button');\n",
              "      quickchartButtonEl.disabled = true;  // To prevent multiple clicks.\n",
              "      quickchartButtonEl.classList.add('colab-df-spinner');\n",
              "      try {\n",
              "        const charts = await google.colab.kernel.invokeFunction(\n",
              "            'suggestCharts', [key], {});\n",
              "      } catch (error) {\n",
              "        console.error('Error during call to suggestCharts:', error);\n",
              "      }\n",
              "      quickchartButtonEl.classList.remove('colab-df-spinner');\n",
              "      quickchartButtonEl.classList.add('colab-df-quickchart-complete');\n",
              "    }\n",
              "    (() => {\n",
              "      let quickchartButtonEl =\n",
              "        document.querySelector('#df-3d76312f-d1e8-452c-a9f8-8dde12b61624 button');\n",
              "      quickchartButtonEl.style.display =\n",
              "        google.colab.kernel.accessAllowed ? 'block' : 'none';\n",
              "    })();\n",
              "  </script>\n",
              "</div>\n",
              "\n",
              "  <div id=\"id_c01b9440-3ec5-4d8e-9c71-6c7b668c0757\">\n",
              "    <style>\n",
              "      .colab-df-generate {\n",
              "        background-color: #E8F0FE;\n",
              "        border: none;\n",
              "        border-radius: 50%;\n",
              "        cursor: pointer;\n",
              "        display: none;\n",
              "        fill: #1967D2;\n",
              "        height: 32px;\n",
              "        padding: 0 0 0 0;\n",
              "        width: 32px;\n",
              "      }\n",
              "\n",
              "      .colab-df-generate:hover {\n",
              "        background-color: #E2EBFA;\n",
              "        box-shadow: 0px 1px 2px rgba(60, 64, 67, 0.3), 0px 1px 3px 1px rgba(60, 64, 67, 0.15);\n",
              "        fill: #174EA6;\n",
              "      }\n",
              "\n",
              "      [theme=dark] .colab-df-generate {\n",
              "        background-color: #3B4455;\n",
              "        fill: #D2E3FC;\n",
              "      }\n",
              "\n",
              "      [theme=dark] .colab-df-generate:hover {\n",
              "        background-color: #434B5C;\n",
              "        box-shadow: 0px 1px 3px 1px rgba(0, 0, 0, 0.15);\n",
              "        filter: drop-shadow(0px 1px 2px rgba(0, 0, 0, 0.3));\n",
              "        fill: #FFFFFF;\n",
              "      }\n",
              "    </style>\n",
              "    <button class=\"colab-df-generate\" onclick=\"generateWithVariable('df_dictionary')\"\n",
              "            title=\"Generate code using this dataframe.\"\n",
              "            style=\"display:none;\">\n",
              "\n",
              "  <svg xmlns=\"http://www.w3.org/2000/svg\" height=\"24px\"viewBox=\"0 0 24 24\"\n",
              "       width=\"24px\">\n",
              "    <path d=\"M7,19H8.4L18.45,9,17,7.55,7,17.6ZM5,21V16.75L18.45,3.32a2,2,0,0,1,2.83,0l1.4,1.43a1.91,1.91,0,0,1,.58,1.4,1.91,1.91,0,0,1-.58,1.4L9.25,21ZM18.45,9,17,7.55Zm-12,3A5.31,5.31,0,0,0,4.9,8.1,5.31,5.31,0,0,0,1,6.5,5.31,5.31,0,0,0,4.9,4.9,5.31,5.31,0,0,0,6.5,1,5.31,5.31,0,0,0,8.1,4.9,5.31,5.31,0,0,0,12,6.5,5.46,5.46,0,0,0,6.5,12Z\"/>\n",
              "  </svg>\n",
              "    </button>\n",
              "    <script>\n",
              "      (() => {\n",
              "      const buttonEl =\n",
              "        document.querySelector('#id_c01b9440-3ec5-4d8e-9c71-6c7b668c0757 button.colab-df-generate');\n",
              "      buttonEl.style.display =\n",
              "        google.colab.kernel.accessAllowed ? 'block' : 'none';\n",
              "\n",
              "      buttonEl.onclick = () => {\n",
              "        google.colab.notebook.generateWithVariable('df_dictionary');\n",
              "      }\n",
              "      })();\n",
              "    </script>\n",
              "  </div>\n",
              "\n",
              "    </div>\n",
              "  </div>\n"
            ],
            "application/vnd.google.colaboratory.intrinsic+json": {
              "type": "dataframe",
              "variable_name": "df_dictionary",
              "summary": "{\n  \"name\": \"df_dictionary\",\n  \"rows\": 5,\n  \"fields\": [\n    {\n      \"column\": \"Kode\",\n      \"properties\": {\n        \"dtype\": \"number\",\n        \"std\": 158,\n        \"min\": 100,\n        \"max\": 500,\n        \"num_unique_values\": 5,\n        \"samples\": [\n          200,\n          500,\n          300\n        ],\n        \"semantic_type\": \"\",\n        \"description\": \"\"\n      }\n    },\n    {\n      \"column\": \"Nama\",\n      \"properties\": {\n        \"dtype\": \"string\",\n        \"num_unique_values\": 5,\n        \"samples\": [\n          \"Beni\",\n          \"Edi\",\n          \"Cinta\"\n        ],\n        \"semantic_type\": \"\",\n        \"description\": \"\"\n      }\n    },\n    {\n      \"column\": \"Usia\",\n      \"properties\": {\n        \"dtype\": \"number\",\n        \"std\": 12,\n        \"min\": 20,\n        \"max\": 50,\n        \"num_unique_values\": 5,\n        \"samples\": [\n          20,\n          50,\n          30\n        ],\n        \"semantic_type\": \"\",\n        \"description\": \"\"\n      }\n    },\n    {\n      \"column\": \"Gaji\",\n      \"properties\": {\n        \"dtype\": \"number\",\n        \"std\": 1581138,\n        \"min\": 1000000,\n        \"max\": 5000000,\n        \"num_unique_values\": 5,\n        \"samples\": [\n          2000000,\n          5000000,\n          3000000\n        ],\n        \"semantic_type\": \"\",\n        \"description\": \"\"\n      }\n    }\n  ]\n}"
            }
          },
          "metadata": {},
          "execution_count": 147
        }
      ]
    },
    {
      "cell_type": "markdown",
      "source": [
        "##### METHOD `pd.concat`\n",
        "Method ini hanya dapat dipergunakan untuk menggabungkan object `dataframe` atau `series` menjadi sebuah dataframe.\n",
        "\n",
        "Salah satu parameter pada method ini adalah `axis` yang akan menentukan bagaimana penggabungan akan dilakukan.\n",
        "1. `axis` = 0, maka `series`/`dataframe` akan digabungkan secara tumpang tindih;\n",
        "2. `axis`= 1, maka `series`/`dataframe` akan digabungkan secara bersebelahan.\n",
        "\n",
        "Hal yang harus dipastikan adalah:\n",
        "1. Jika `axis`=0, nama kolom pada setiap `dataframe`/`series` yang digabungkan sama;\n",
        "2. Jika `axis`=1, penulisan index baris setiap `dataframe`/`series` yang digabungkan sama."
      ],
      "metadata": {
        "id": "ypSV77zaxeBI"
      }
    },
    {
      "cell_type": "code",
      "source": [
        "# Menggabungkan data pada list_of_series\n",
        "df_concat_series = pd.concat(list_of_series, axis=1)\n",
        "df_concat_series"
      ],
      "metadata": {
        "colab": {
          "base_uri": "https://localhost:8080/",
          "height": 206
        },
        "id": "Fnpv5MZd0Ku9",
        "outputId": "c4db1fef-76f5-45dd-a612-616e5f464b84"
      },
      "execution_count": 148,
      "outputs": [
        {
          "output_type": "execute_result",
          "data": {
            "text/plain": [
              "   Kode   Nama  Usia     Gaji\n",
              "0   100   Amir    25  1000000\n",
              "1   200   Beni    20  2000000\n",
              "2   300  Cinta    30  3000000\n",
              "3   400  Dimas    40  4000000\n",
              "4   500    Edi    50  5000000"
            ],
            "text/html": [
              "\n",
              "  <div id=\"df-cfee12fb-7bf1-4a80-bf81-88c80ed70ec6\" class=\"colab-df-container\">\n",
              "    <div>\n",
              "<style scoped>\n",
              "    .dataframe tbody tr th:only-of-type {\n",
              "        vertical-align: middle;\n",
              "    }\n",
              "\n",
              "    .dataframe tbody tr th {\n",
              "        vertical-align: top;\n",
              "    }\n",
              "\n",
              "    .dataframe thead th {\n",
              "        text-align: right;\n",
              "    }\n",
              "</style>\n",
              "<table border=\"1\" class=\"dataframe\">\n",
              "  <thead>\n",
              "    <tr style=\"text-align: right;\">\n",
              "      <th></th>\n",
              "      <th>Kode</th>\n",
              "      <th>Nama</th>\n",
              "      <th>Usia</th>\n",
              "      <th>Gaji</th>\n",
              "    </tr>\n",
              "  </thead>\n",
              "  <tbody>\n",
              "    <tr>\n",
              "      <th>0</th>\n",
              "      <td>100</td>\n",
              "      <td>Amir</td>\n",
              "      <td>25</td>\n",
              "      <td>1000000</td>\n",
              "    </tr>\n",
              "    <tr>\n",
              "      <th>1</th>\n",
              "      <td>200</td>\n",
              "      <td>Beni</td>\n",
              "      <td>20</td>\n",
              "      <td>2000000</td>\n",
              "    </tr>\n",
              "    <tr>\n",
              "      <th>2</th>\n",
              "      <td>300</td>\n",
              "      <td>Cinta</td>\n",
              "      <td>30</td>\n",
              "      <td>3000000</td>\n",
              "    </tr>\n",
              "    <tr>\n",
              "      <th>3</th>\n",
              "      <td>400</td>\n",
              "      <td>Dimas</td>\n",
              "      <td>40</td>\n",
              "      <td>4000000</td>\n",
              "    </tr>\n",
              "    <tr>\n",
              "      <th>4</th>\n",
              "      <td>500</td>\n",
              "      <td>Edi</td>\n",
              "      <td>50</td>\n",
              "      <td>5000000</td>\n",
              "    </tr>\n",
              "  </tbody>\n",
              "</table>\n",
              "</div>\n",
              "    <div class=\"colab-df-buttons\">\n",
              "\n",
              "  <div class=\"colab-df-container\">\n",
              "    <button class=\"colab-df-convert\" onclick=\"convertToInteractive('df-cfee12fb-7bf1-4a80-bf81-88c80ed70ec6')\"\n",
              "            title=\"Convert this dataframe to an interactive table.\"\n",
              "            style=\"display:none;\">\n",
              "\n",
              "  <svg xmlns=\"http://www.w3.org/2000/svg\" height=\"24px\" viewBox=\"0 -960 960 960\">\n",
              "    <path d=\"M120-120v-720h720v720H120Zm60-500h600v-160H180v160Zm220 220h160v-160H400v160Zm0 220h160v-160H400v160ZM180-400h160v-160H180v160Zm440 0h160v-160H620v160ZM180-180h160v-160H180v160Zm440 0h160v-160H620v160Z\"/>\n",
              "  </svg>\n",
              "    </button>\n",
              "\n",
              "  <style>\n",
              "    .colab-df-container {\n",
              "      display:flex;\n",
              "      gap: 12px;\n",
              "    }\n",
              "\n",
              "    .colab-df-convert {\n",
              "      background-color: #E8F0FE;\n",
              "      border: none;\n",
              "      border-radius: 50%;\n",
              "      cursor: pointer;\n",
              "      display: none;\n",
              "      fill: #1967D2;\n",
              "      height: 32px;\n",
              "      padding: 0 0 0 0;\n",
              "      width: 32px;\n",
              "    }\n",
              "\n",
              "    .colab-df-convert:hover {\n",
              "      background-color: #E2EBFA;\n",
              "      box-shadow: 0px 1px 2px rgba(60, 64, 67, 0.3), 0px 1px 3px 1px rgba(60, 64, 67, 0.15);\n",
              "      fill: #174EA6;\n",
              "    }\n",
              "\n",
              "    .colab-df-buttons div {\n",
              "      margin-bottom: 4px;\n",
              "    }\n",
              "\n",
              "    [theme=dark] .colab-df-convert {\n",
              "      background-color: #3B4455;\n",
              "      fill: #D2E3FC;\n",
              "    }\n",
              "\n",
              "    [theme=dark] .colab-df-convert:hover {\n",
              "      background-color: #434B5C;\n",
              "      box-shadow: 0px 1px 3px 1px rgba(0, 0, 0, 0.15);\n",
              "      filter: drop-shadow(0px 1px 2px rgba(0, 0, 0, 0.3));\n",
              "      fill: #FFFFFF;\n",
              "    }\n",
              "  </style>\n",
              "\n",
              "    <script>\n",
              "      const buttonEl =\n",
              "        document.querySelector('#df-cfee12fb-7bf1-4a80-bf81-88c80ed70ec6 button.colab-df-convert');\n",
              "      buttonEl.style.display =\n",
              "        google.colab.kernel.accessAllowed ? 'block' : 'none';\n",
              "\n",
              "      async function convertToInteractive(key) {\n",
              "        const element = document.querySelector('#df-cfee12fb-7bf1-4a80-bf81-88c80ed70ec6');\n",
              "        const dataTable =\n",
              "          await google.colab.kernel.invokeFunction('convertToInteractive',\n",
              "                                                    [key], {});\n",
              "        if (!dataTable) return;\n",
              "\n",
              "        const docLinkHtml = 'Like what you see? Visit the ' +\n",
              "          '<a target=\"_blank\" href=https://colab.research.google.com/notebooks/data_table.ipynb>data table notebook</a>'\n",
              "          + ' to learn more about interactive tables.';\n",
              "        element.innerHTML = '';\n",
              "        dataTable['output_type'] = 'display_data';\n",
              "        await google.colab.output.renderOutput(dataTable, element);\n",
              "        const docLink = document.createElement('div');\n",
              "        docLink.innerHTML = docLinkHtml;\n",
              "        element.appendChild(docLink);\n",
              "      }\n",
              "    </script>\n",
              "  </div>\n",
              "\n",
              "\n",
              "<div id=\"df-2328266a-23f9-4dde-99dc-8fc641133e8a\">\n",
              "  <button class=\"colab-df-quickchart\" onclick=\"quickchart('df-2328266a-23f9-4dde-99dc-8fc641133e8a')\"\n",
              "            title=\"Suggest charts\"\n",
              "            style=\"display:none;\">\n",
              "\n",
              "<svg xmlns=\"http://www.w3.org/2000/svg\" height=\"24px\"viewBox=\"0 0 24 24\"\n",
              "     width=\"24px\">\n",
              "    <g>\n",
              "        <path d=\"M19 3H5c-1.1 0-2 .9-2 2v14c0 1.1.9 2 2 2h14c1.1 0 2-.9 2-2V5c0-1.1-.9-2-2-2zM9 17H7v-7h2v7zm4 0h-2V7h2v10zm4 0h-2v-4h2v4z\"/>\n",
              "    </g>\n",
              "</svg>\n",
              "  </button>\n",
              "\n",
              "<style>\n",
              "  .colab-df-quickchart {\n",
              "      --bg-color: #E8F0FE;\n",
              "      --fill-color: #1967D2;\n",
              "      --hover-bg-color: #E2EBFA;\n",
              "      --hover-fill-color: #174EA6;\n",
              "      --disabled-fill-color: #AAA;\n",
              "      --disabled-bg-color: #DDD;\n",
              "  }\n",
              "\n",
              "  [theme=dark] .colab-df-quickchart {\n",
              "      --bg-color: #3B4455;\n",
              "      --fill-color: #D2E3FC;\n",
              "      --hover-bg-color: #434B5C;\n",
              "      --hover-fill-color: #FFFFFF;\n",
              "      --disabled-bg-color: #3B4455;\n",
              "      --disabled-fill-color: #666;\n",
              "  }\n",
              "\n",
              "  .colab-df-quickchart {\n",
              "    background-color: var(--bg-color);\n",
              "    border: none;\n",
              "    border-radius: 50%;\n",
              "    cursor: pointer;\n",
              "    display: none;\n",
              "    fill: var(--fill-color);\n",
              "    height: 32px;\n",
              "    padding: 0;\n",
              "    width: 32px;\n",
              "  }\n",
              "\n",
              "  .colab-df-quickchart:hover {\n",
              "    background-color: var(--hover-bg-color);\n",
              "    box-shadow: 0 1px 2px rgba(60, 64, 67, 0.3), 0 1px 3px 1px rgba(60, 64, 67, 0.15);\n",
              "    fill: var(--button-hover-fill-color);\n",
              "  }\n",
              "\n",
              "  .colab-df-quickchart-complete:disabled,\n",
              "  .colab-df-quickchart-complete:disabled:hover {\n",
              "    background-color: var(--disabled-bg-color);\n",
              "    fill: var(--disabled-fill-color);\n",
              "    box-shadow: none;\n",
              "  }\n",
              "\n",
              "  .colab-df-spinner {\n",
              "    border: 2px solid var(--fill-color);\n",
              "    border-color: transparent;\n",
              "    border-bottom-color: var(--fill-color);\n",
              "    animation:\n",
              "      spin 1s steps(1) infinite;\n",
              "  }\n",
              "\n",
              "  @keyframes spin {\n",
              "    0% {\n",
              "      border-color: transparent;\n",
              "      border-bottom-color: var(--fill-color);\n",
              "      border-left-color: var(--fill-color);\n",
              "    }\n",
              "    20% {\n",
              "      border-color: transparent;\n",
              "      border-left-color: var(--fill-color);\n",
              "      border-top-color: var(--fill-color);\n",
              "    }\n",
              "    30% {\n",
              "      border-color: transparent;\n",
              "      border-left-color: var(--fill-color);\n",
              "      border-top-color: var(--fill-color);\n",
              "      border-right-color: var(--fill-color);\n",
              "    }\n",
              "    40% {\n",
              "      border-color: transparent;\n",
              "      border-right-color: var(--fill-color);\n",
              "      border-top-color: var(--fill-color);\n",
              "    }\n",
              "    60% {\n",
              "      border-color: transparent;\n",
              "      border-right-color: var(--fill-color);\n",
              "    }\n",
              "    80% {\n",
              "      border-color: transparent;\n",
              "      border-right-color: var(--fill-color);\n",
              "      border-bottom-color: var(--fill-color);\n",
              "    }\n",
              "    90% {\n",
              "      border-color: transparent;\n",
              "      border-bottom-color: var(--fill-color);\n",
              "    }\n",
              "  }\n",
              "</style>\n",
              "\n",
              "  <script>\n",
              "    async function quickchart(key) {\n",
              "      const quickchartButtonEl =\n",
              "        document.querySelector('#' + key + ' button');\n",
              "      quickchartButtonEl.disabled = true;  // To prevent multiple clicks.\n",
              "      quickchartButtonEl.classList.add('colab-df-spinner');\n",
              "      try {\n",
              "        const charts = await google.colab.kernel.invokeFunction(\n",
              "            'suggestCharts', [key], {});\n",
              "      } catch (error) {\n",
              "        console.error('Error during call to suggestCharts:', error);\n",
              "      }\n",
              "      quickchartButtonEl.classList.remove('colab-df-spinner');\n",
              "      quickchartButtonEl.classList.add('colab-df-quickchart-complete');\n",
              "    }\n",
              "    (() => {\n",
              "      let quickchartButtonEl =\n",
              "        document.querySelector('#df-2328266a-23f9-4dde-99dc-8fc641133e8a button');\n",
              "      quickchartButtonEl.style.display =\n",
              "        google.colab.kernel.accessAllowed ? 'block' : 'none';\n",
              "    })();\n",
              "  </script>\n",
              "</div>\n",
              "\n",
              "  <div id=\"id_3c1e4cd4-1461-4158-8bc3-80805de1c883\">\n",
              "    <style>\n",
              "      .colab-df-generate {\n",
              "        background-color: #E8F0FE;\n",
              "        border: none;\n",
              "        border-radius: 50%;\n",
              "        cursor: pointer;\n",
              "        display: none;\n",
              "        fill: #1967D2;\n",
              "        height: 32px;\n",
              "        padding: 0 0 0 0;\n",
              "        width: 32px;\n",
              "      }\n",
              "\n",
              "      .colab-df-generate:hover {\n",
              "        background-color: #E2EBFA;\n",
              "        box-shadow: 0px 1px 2px rgba(60, 64, 67, 0.3), 0px 1px 3px 1px rgba(60, 64, 67, 0.15);\n",
              "        fill: #174EA6;\n",
              "      }\n",
              "\n",
              "      [theme=dark] .colab-df-generate {\n",
              "        background-color: #3B4455;\n",
              "        fill: #D2E3FC;\n",
              "      }\n",
              "\n",
              "      [theme=dark] .colab-df-generate:hover {\n",
              "        background-color: #434B5C;\n",
              "        box-shadow: 0px 1px 3px 1px rgba(0, 0, 0, 0.15);\n",
              "        filter: drop-shadow(0px 1px 2px rgba(0, 0, 0, 0.3));\n",
              "        fill: #FFFFFF;\n",
              "      }\n",
              "    </style>\n",
              "    <button class=\"colab-df-generate\" onclick=\"generateWithVariable('df_concat_series')\"\n",
              "            title=\"Generate code using this dataframe.\"\n",
              "            style=\"display:none;\">\n",
              "\n",
              "  <svg xmlns=\"http://www.w3.org/2000/svg\" height=\"24px\"viewBox=\"0 0 24 24\"\n",
              "       width=\"24px\">\n",
              "    <path d=\"M7,19H8.4L18.45,9,17,7.55,7,17.6ZM5,21V16.75L18.45,3.32a2,2,0,0,1,2.83,0l1.4,1.43a1.91,1.91,0,0,1,.58,1.4,1.91,1.91,0,0,1-.58,1.4L9.25,21ZM18.45,9,17,7.55Zm-12,3A5.31,5.31,0,0,0,4.9,8.1,5.31,5.31,0,0,0,1,6.5,5.31,5.31,0,0,0,4.9,4.9,5.31,5.31,0,0,0,6.5,1,5.31,5.31,0,0,0,8.1,4.9,5.31,5.31,0,0,0,12,6.5,5.46,5.46,0,0,0,6.5,12Z\"/>\n",
              "  </svg>\n",
              "    </button>\n",
              "    <script>\n",
              "      (() => {\n",
              "      const buttonEl =\n",
              "        document.querySelector('#id_3c1e4cd4-1461-4158-8bc3-80805de1c883 button.colab-df-generate');\n",
              "      buttonEl.style.display =\n",
              "        google.colab.kernel.accessAllowed ? 'block' : 'none';\n",
              "\n",
              "      buttonEl.onclick = () => {\n",
              "        google.colab.notebook.generateWithVariable('df_concat_series');\n",
              "      }\n",
              "      })();\n",
              "    </script>\n",
              "  </div>\n",
              "\n",
              "    </div>\n",
              "  </div>\n"
            ],
            "application/vnd.google.colaboratory.intrinsic+json": {
              "type": "dataframe",
              "variable_name": "df_concat_series",
              "summary": "{\n  \"name\": \"df_concat_series\",\n  \"rows\": 5,\n  \"fields\": [\n    {\n      \"column\": \"Kode\",\n      \"properties\": {\n        \"dtype\": \"number\",\n        \"std\": 158,\n        \"min\": 100,\n        \"max\": 500,\n        \"num_unique_values\": 5,\n        \"samples\": [\n          200,\n          500,\n          300\n        ],\n        \"semantic_type\": \"\",\n        \"description\": \"\"\n      }\n    },\n    {\n      \"column\": \"Nama\",\n      \"properties\": {\n        \"dtype\": \"string\",\n        \"num_unique_values\": 5,\n        \"samples\": [\n          \"Beni\",\n          \"Edi\",\n          \"Cinta\"\n        ],\n        \"semantic_type\": \"\",\n        \"description\": \"\"\n      }\n    },\n    {\n      \"column\": \"Usia\",\n      \"properties\": {\n        \"dtype\": \"number\",\n        \"std\": 12,\n        \"min\": 20,\n        \"max\": 50,\n        \"num_unique_values\": 5,\n        \"samples\": [\n          20,\n          50,\n          30\n        ],\n        \"semantic_type\": \"\",\n        \"description\": \"\"\n      }\n    },\n    {\n      \"column\": \"Gaji\",\n      \"properties\": {\n        \"dtype\": \"number\",\n        \"std\": 1581138,\n        \"min\": 1000000,\n        \"max\": 5000000,\n        \"num_unique_values\": 5,\n        \"samples\": [\n          2000000,\n          5000000,\n          3000000\n        ],\n        \"semantic_type\": \"\",\n        \"description\": \"\"\n      }\n    }\n  ]\n}"
            }
          },
          "metadata": {},
          "execution_count": 148
        }
      ]
    },
    {
      "cell_type": "markdown",
      "metadata": {
        "id": "X2wP6M-0e2t9"
      },
      "source": [
        "---"
      ]
    }
  ],
  "metadata": {
    "colab": {
      "provenance": []
    },
    "kernelspec": {
      "display_name": "Python 3",
      "name": "python3"
    },
    "language_info": {
      "name": "python"
    }
  },
  "nbformat": 4,
  "nbformat_minor": 0
}